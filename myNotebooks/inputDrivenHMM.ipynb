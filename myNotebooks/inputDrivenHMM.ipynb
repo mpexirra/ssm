{
 "cells": [
  {
   "cell_type": "code",
   "execution_count": 1,
   "id": "cfb4afa0",
   "metadata": {},
   "outputs": [],
   "source": [
    "# import packages\n",
    "import numpy as np\n",
    "import numpy.random as npr\n",
    "import matplotlib.pyplot as plt\n",
    "import ssm\n",
    "from ssm.util import find_permutation\n",
    "\n",
    "npr.seed(0)"
   ]
  },
  {
   "cell_type": "code",
   "execution_count": 128,
   "id": "6b9200e2",
   "metadata": {},
   "outputs": [
    {
     "name": "stdout",
     "output_type": "stream",
     "text": [
      "(3, 1, 2)\n",
      "(1, 3, 3)\n"
     ]
    }
   ],
   "source": [
    "\n",
    "# Set the parameters of the GLM-HMM\n",
    "nstates = 3           # number of discrete states\n",
    "obs_dim = 1           # number of observed dimensions\n",
    "num_categories = 2    # number of categories for output\n",
    "input_dim = 2         # input dimensions\n",
    "\n",
    "# Make a GLM-HMM\n",
    "true_glmhmm = ssm.HMM(nstates, obs_dim, input_dim, observations=\"input_driven_obs\", \n",
    "                   observation_kwargs=dict(C=num_categories), transitions=\"standard\")\n",
    "\n",
    "gen_weights = np.array([[[6, 1]], [[2, -3]], [[2, 3]]])\n",
    "gen_log_trans_mat = np.log(np.array([[[0.98, 0.01, 0.01], [0.05, 0.92, 0.03], [0.03, 0.03, 0.94]]]))\n",
    "true_glmhmm.observations.params = gen_weights\n",
    "true_glmhmm.transitions.params = gen_log_trans_mat\n",
    "\n",
    "print(gen_weights.shape)\n",
    "print(gen_log_trans_mat.shape)"
   ]
  },
  {
   "cell_type": "code",
   "execution_count": 98,
   "id": "6dc640c2",
   "metadata": {},
   "outputs": [
    {
     "data": {
      "text/plain": [
       "Text(0.5, 0, 'state t + 1')"
      ]
     },
     "execution_count": 98,
     "metadata": {},
     "output_type": "execute_result"
    },
    {
     "data": {
      "image/png": "[encoded data removed]",
      "text/plain": [
       "<Figure size 576x216 with 2 Axes>"
      ]
     },
     "metadata": {
      "needs_background": "light"
     },
     "output_type": "display_data"
    }
   ],
   "source": [
    "# Plot generative parameters:\n",
    "fig = plt.figure(figsize=(8, 3))\n",
    "\n",
    "# plot true model GLM weights for each state\n",
    "plt.subplot(1, 2, 1)\n",
    "\n",
    "for kk in range(nstates):\n",
    "    plt.plot(range(input_dim), gen_weights[kk][0], marker='o',\n",
    "             linestyle='-',\n",
    "             lw = 1.5, label=\"state \" + str(kk+1))\n",
    "\n",
    "# axis options    \n",
    "plt.title(\"true model weights\")\n",
    "plt.ylabel(\"GLM weight\")\n",
    "plt.xlabel(\"covariate\")\n",
    "plt.xticks([0, 1], ['stimulus', 'bias'], rotation = 45)\n",
    "plt.axhline(y=0, color=\"k\", alpha = 0.5, ls = \":\")\n",
    "plt.legend()\n",
    "\n",
    "# plot true model transition matrix\n",
    "plt.subplot(1, 2, 2)\n",
    "plt.imshow(true_glmhmm.transitions.transition_matrix, vmin=-0.8, vmax=1, cmap='bone')\n",
    "\n",
    "for ii in range(nstates):\n",
    "    for jj in range(nstates):\n",
    "        text = plt.text(jj, ii, str(np.around(true_glmhmm.transitions.transition_matrix[ii, jj], decimals=2)), \n",
    "                        ha=\"center\", va=\"center\",\n",
    "                        color=\"k\", fontsize=12)\n",
    "# axis options\n",
    "plt.title(\"true model transition matrix\")\n",
    "plt.xticks(range(nstates), ('1', '2', '3'))\n",
    "plt.yticks(range(nstates), ('1', '2', '3'))\n",
    "plt.ylabel(\"state t\")\n",
    "plt.xlabel(\"state t + 1\")"
   ]
  },
  {
   "cell_type": "code",
   "execution_count": 114,
   "id": "b74b1ab0",
   "metadata": {},
   "outputs": [],
   "source": [
    "# creating external inputs\n",
    "num_sess = 1 # number of example sessions\n",
    "num_trials_per_sess = 100 # number of trials in a session\n",
    "inpts = np.ones((num_sess, num_trials_per_sess, input_dim)) # initialize inpts array\n",
    "stim_vals = [-1, -0.5, -0.25, -0.125, -0.0625, 0, 0.0625, 0.125, 0.25, 0.5, 1]\n",
    "inpts[:,:,0] = np.random.choice(stim_vals, (num_sess, num_trials_per_sess)) # generate random sequence of stimuli\n",
    "inpts = list(inpts) #convert inpts to correct format"
   ]
  },
  {
   "cell_type": "code",
   "execution_count": 136,
   "id": "c4100282",
   "metadata": {},
   "outputs": [],
   "source": [
    "# create a sequence of states and choices for each session\n",
    "true_latents, true_choices = [], []\n",
    "for sess in range(num_sess):\n",
    "    true_z, true_y = true_glmhmm.sample(num_trials_per_sess, input=inpts[sess])\n",
    "    true_latents.append(true_z)\n",
    "    true_choices.append(true_y)"
   ]
  },
  {
   "cell_type": "code",
   "execution_count": 134,
   "id": "d4d12de8",
   "metadata": {},
   "outputs": [
    {
     "name": "stdout",
     "output_type": "stream",
     "text": [
      "true ll = -119.6623611632596\n",
      "[array([[1],\n",
      "       [1],\n",
      "       [1],\n",
      "       [1],\n",
      "       [1],\n",
      "       [0],\n",
      "       [0],\n",
      "       [0],\n",
      "       [0],\n",
      "       [1],\n",
      "       [0],\n",
      "       [0],\n",
      "       [1],\n",
      "       [1],\n",
      "       [1],\n",
      "       [0],\n",
      "       [0],\n",
      "       [1],\n",
      "       [1],\n",
      "       [1],\n",
      "       [1],\n",
      "       [0],\n",
      "       [1],\n",
      "       [0],\n",
      "       [0],\n",
      "       [1],\n",
      "       [1],\n",
      "       [0],\n",
      "       [1],\n",
      "       [1],\n",
      "       [0],\n",
      "       [1],\n",
      "       [1],\n",
      "       [0],\n",
      "       [0],\n",
      "       [0],\n",
      "       [1],\n",
      "       [0],\n",
      "       [0],\n",
      "       [0],\n",
      "       [0],\n",
      "       [1],\n",
      "       [1],\n",
      "       [1],\n",
      "       [0],\n",
      "       [1],\n",
      "       [1],\n",
      "       [1],\n",
      "       [0],\n",
      "       [1],\n",
      "       [0],\n",
      "       [0],\n",
      "       [0],\n",
      "       [1],\n",
      "       [0],\n",
      "       [1],\n",
      "       [0],\n",
      "       [0],\n",
      "       [0],\n",
      "       [1],\n",
      "       [1],\n",
      "       [0],\n",
      "       [1],\n",
      "       [1],\n",
      "       [1],\n",
      "       [0],\n",
      "       [0],\n",
      "       [0],\n",
      "       [0],\n",
      "       [1],\n",
      "       [0],\n",
      "       [1],\n",
      "       [0],\n",
      "       [0],\n",
      "       [0],\n",
      "       [0],\n",
      "       [0],\n",
      "       [0],\n",
      "       [0],\n",
      "       [0],\n",
      "       [0],\n",
      "       [1],\n",
      "       [0],\n",
      "       [0],\n",
      "       [0],\n",
      "       [1],\n",
      "       [0],\n",
      "       [0],\n",
      "       [0],\n",
      "       [0],\n",
      "       [0],\n",
      "       [0],\n",
      "       [0],\n",
      "       [0],\n",
      "       [0],\n",
      "       [0],\n",
      "       [0],\n",
      "       [0],\n",
      "       [0],\n",
      "       [0]])]\n"
     ]
    }
   ],
   "source": [
    "# calculate true loglikelihood\n",
    "true_ll = true_glmhmm.log_probability(true_choices, inputs=inpts) \n",
    "print(\"true ll = \" + str(true_ll))\n",
    "\n",
    "print(true_choices)"
   ]
  },
  {
   "cell_type": "code",
   "execution_count": 124,
   "id": "990ded05",
   "metadata": {},
   "outputs": [
    {
     "data": {
      "application/vnd.jupyter.widget-view+json": {
       "model_id": "ed0ab65a78b840a7b037982e26d0803a",
       "version_major": 2,
       "version_minor": 0
      },
      "text/plain": [
       "  0%|          | 0/20 [00:00<?, ?it/s]"
      ]
     },
     "metadata": {},
     "output_type": "display_data"
    },
    {
     "data": {
      "image/png": "[encoded data removed]",
      "text/plain": [
       "<Figure size 320x240 with 1 Axes>"
      ]
     },
     "metadata": {},
     "output_type": "display_data"
    }
   ],
   "source": [
    "# new GLM\n",
    "new_glmhmm = ssm.HMM(nstates, obs_dim, input_dim, observations=\"input_driven_obs\", \n",
    "                   observation_kwargs=dict(C=num_categories), transitions=\"standard\")\n",
    "\n",
    "N_iters = 20 # maximum number of EM iterations. Fitting with stop earlier if increase in LL is below tolerance specified by tolerance parameter\n",
    "fit_ll = new_glmhmm.fit(true_choices, inputs=inpts, method=\"em\", num_iters=N_iters, tolerance=10**-4)\n",
    "\n",
    "fig = plt.figure(figsize=(4, 3), dpi=80, facecolor='w', edgecolor='k')\n",
    "plt.plot(fit_ll, label=\"EM\")\n",
    "plt.plot([0, len(fit_ll)], true_ll * np.ones(2), ':k', label=\"True\")\n",
    "plt.legend(loc=\"lower right\")\n",
    "plt.xlabel(\"EM Iteration\")\n",
    "plt.xlim(0, len(fit_ll))\n",
    "plt.ylabel(\"Log Probability\")\n",
    "plt.show()"
   ]
  },
  {
   "cell_type": "code",
   "execution_count": null,
   "id": "2121e641",
   "metadata": {},
   "outputs": [],
   "source": []
  }
 ],
 "metadata": {
  "kernelspec": {
   "display_name": "Python 3 (ipykernel)",
   "language": "python",
   "name": "python3"
  },
  "language_info": {
   "codemirror_mode": {
    "name": "ipython",
    "version": 3
   },
   "file_extension": ".py",
   "mimetype": "text/x-python",
   "name": "python",
   "nbconvert_exporter": "python",
   "pygments_lexer": "ipython3",
   "version": "3.7.4"
  }
 },
 "nbformat": 4,
 "nbformat_minor": 5
}
