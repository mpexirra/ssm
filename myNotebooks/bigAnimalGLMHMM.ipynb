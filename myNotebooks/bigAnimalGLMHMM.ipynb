{
 "cells": [
  {
   "cell_type": "code",
   "execution_count": 44,
   "metadata": {},
   "outputs": [],
   "source": [
    "# importing packages\n",
    "import numpy as np\n",
    "import matplotlib.pyplot as plt\n",
    "\n",
    "from scipy.optimize import curve_fit\n",
    "from scipy.special import expit\n",
    "\n",
    "import ssm\n",
    "from ssm import transitions \n",
    "\n",
    "import scipy.io\n",
    "import os\n",
    "import pandas as pd\n",
    "import seaborn as sns\n",
    "import glmhmmFunctions as ghf"
   ]
  },
  {
   "cell_type": "code",
   "execution_count": 45,
   "metadata": {},
   "outputs": [],
   "source": [
    "# load data\n",
    "filename = '/Users/mpexirra/Documents/data/muscimoldata'\n",
    "data = scipy.io.loadmat(filename)\n",
    "data = data['muscimoldata']"
   ]
  },
  {
   "cell_type": "code",
   "execution_count": 46,
   "metadata": {},
   "outputs": [],
   "source": [
    "# defining plot colors\n",
    "stimcolors = sns.color_palette(\"rocket_r\")\n",
    "colors = ['gold', 'plum', 'lightskyblue', 'red']"
   ]
  },
  {
   "cell_type": "code",
   "execution_count": 47,
   "metadata": {},
   "outputs": [],
   "source": [
    "# all data as a data frame\n",
    "df = pd.DataFrame(data)\n",
    "df.columns = ['animal', 'sessionid', 'trialnumber', 'trial_block', 'lotterymag', 'lotteryprob', \n",
    "           'surebetmag', 'rewardreceived', 'lotterychoice', 'lotteryoutcome', 'musdose', 'region']"
   ]
  },
  {
   "cell_type": "markdown",
   "metadata": {},
   "source": []
  },
  {
   "cell_type": "code",
   "execution_count": 48,
   "metadata": {},
   "outputs": [],
   "source": [
    "# adding/modifying relevant variables to data frame\n",
    "df.animal = df.animal.astype(int)\n",
    "\n",
    "df['choiceout'] = np.zeros(len(df))\n",
    "df.loc[(df.lotterychoice == 1) & (df.lotteryoutcome == 1),['choiceout']] = 1\n",
    "df.loc[(df.lotterychoice == 1) & (df.lotteryoutcome == 0),['choiceout']] = -1\n",
    "\n",
    "df.loc[df.region == 1, 'region'] = 'ctrl'\n",
    "df.loc[df.region == 2, 'region'] = 'fof'\n",
    "df.loc[df.region == 3, 'region'] = 'ppc'"
   ]
  },
  {
   "cell_type": "code",
   "execution_count": 49,
   "metadata": {},
   "outputs": [],
   "source": [
    "# getting normalized EVs for each animal\n",
    "df['deltaEV'] = np.zeros(len(df))\n",
    "df['normdeltaEV'] = np.zeros(len(df))\n",
    "animals = df['animal'].unique()\n",
    "nanimals = len(animals)\n",
    "\n",
    "for aa in range(nanimals):\n",
    "    animaldata = df[df['animal'] == animals[aa]]\n",
    "    sessions = animaldata['sessionid'].unique()\n",
    "    nsessions = len(sessions)\n",
    "\n",
    "    for ss in range(nsessions):\n",
    "        sessiondata = animaldata[animaldata['sessionid'] == sessions[ss]]\n",
    "        ntrials = len(sessiondata)\n",
    "\n",
    "        sbmag = sessiondata.surebetmag[sessiondata.lotterychoice == 0].unique()\n",
    "        sbrwd = sessiondata.rewardreceived[sessiondata.lotterychoice == 0].unique()\n",
    "        rwdmult = sbrwd/sbmag\n",
    "        lotteryprob = sessiondata.lotteryprob.unique()\n",
    "    \n",
    "        # getting and saving deltaEV information\n",
    "        deltaEV = rwdmult * (sessiondata.lotterymag * lotteryprob) - sbrwd\n",
    "        df.loc[(df['animal'] == animals[aa]) & (df['sessionid'] == sessions[ss]), ['deltaEV']] = deltaEV\n",
    "    maxEV = df.deltaEV[df.animal == animals[aa]].max()\n",
    "    df.loc[df['animal'] == animals[aa], 'normdeltaEV'] = df.deltaEV[df['animal'] == animals[aa]]/maxEV"
   ]
  },
  {
   "cell_type": "code",
   "execution_count": 50,
   "metadata": {},
   "outputs": [],
   "source": [
    "# creating Y and input structures\n",
    "inputdim = 2\n",
    "inputs = []\n",
    "Y = []\n",
    "sessions = df['sessionid'].unique()\n",
    "nsessions = len(sessions)\n",
    "\n",
    "for ss in range(nsessions):\n",
    "    sessiondata = df[df['sessionid'] == sessions[ss]]\n",
    "    ntrials = len(sessiondata)\n",
    "    inputs.append(np.ones([ntrials, inputdim]))\n",
    "    Y.append(np.zeros([ntrials,1], dtype = int))\n",
    "    inputs[ss][:,0] = sessiondata.deltaEV\n",
    "    Y[ss][:,0] = sessiondata.lotterychoice"
   ]
  },
  {
   "cell_type": "code",
   "execution_count": 8,
   "metadata": {},
   "outputs": [
    {
     "data": {
      "application/vnd.jupyter.widget-view+json": {
       "model_id": "3659d83fffba4501afe3ca47e3ec50f7",
       "version_major": 2,
       "version_minor": 0
      },
      "text/plain": [
       "  0%|          | 0/500 [00:00<?, ?it/s]"
      ]
     },
     "metadata": {},
     "output_type": "display_data"
    },
    {
     "data": {
      "application/vnd.jupyter.widget-view+json": {
       "model_id": "6bf05e7d1d874562a38d6f1141a3291d",
       "version_major": 2,
       "version_minor": 0
      },
      "text/plain": [
       "  0%|          | 0/500 [00:00<?, ?it/s]"
      ]
     },
     "metadata": {},
     "output_type": "display_data"
    },
    {
     "data": {
      "application/vnd.jupyter.widget-view+json": {
       "model_id": "8da9ca23b9514f2ca930c21bfe9fc0ff",
       "version_major": 2,
       "version_minor": 0
      },
      "text/plain": [
       "  0%|          | 0/500 [00:00<?, ?it/s]"
      ]
     },
     "metadata": {},
     "output_type": "display_data"
    },
    {
     "data": {
      "application/vnd.jupyter.widget-view+json": {
       "model_id": "caf465251abf4db2888aab081dd45391",
       "version_major": 2,
       "version_minor": 0
      },
      "text/plain": [
       "  0%|          | 0/500 [00:00<?, ?it/s]"
      ]
     },
     "metadata": {},
     "output_type": "display_data"
    },
    {
     "data": {
      "application/vnd.jupyter.widget-view+json": {
       "model_id": "4a1255d7e4d54dd5b8f37f4648ecbc6b",
       "version_major": 2,
       "version_minor": 0
      },
      "text/plain": [
       "  0%|          | 0/500 [00:00<?, ?it/s]"
      ]
     },
     "metadata": {},
     "output_type": "display_data"
    },
    {
     "data": {
      "application/vnd.jupyter.widget-view+json": {
       "model_id": "6162026d35384231b63fa6745fe9cd9e",
       "version_major": 2,
       "version_minor": 0
      },
      "text/plain": [
       "  0%|          | 0/500 [00:00<?, ?it/s]"
      ]
     },
     "metadata": {},
     "output_type": "display_data"
    },
    {
     "data": {
      "application/vnd.jupyter.widget-view+json": {
       "model_id": "94b6870bf71149caae0a0f67188c1153",
       "version_major": 2,
       "version_minor": 0
      },
      "text/plain": [
       "  0%|          | 0/500 [00:00<?, ?it/s]"
      ]
     },
     "metadata": {},
     "output_type": "display_data"
    },
    {
     "data": {
      "application/vnd.jupyter.widget-view+json": {
       "model_id": "2c057c56b66d407cb850ed6db0e73266",
       "version_major": 2,
       "version_minor": 0
      },
      "text/plain": [
       "  0%|          | 0/500 [00:00<?, ?it/s]"
      ]
     },
     "metadata": {},
     "output_type": "display_data"
    },
    {
     "data": {
      "application/vnd.jupyter.widget-view+json": {
       "model_id": "4c1f742d59464f13b5f7c26284005134",
       "version_major": 2,
       "version_minor": 0
      },
      "text/plain": [
       "  0%|          | 0/500 [00:00<?, ?it/s]"
      ]
     },
     "metadata": {},
     "output_type": "display_data"
    },
    {
     "data": {
      "application/vnd.jupyter.widget-view+json": {
       "model_id": "9df01a7aa0b64ad5b38977925a4fcf3a",
       "version_major": 2,
       "version_minor": 0
      },
      "text/plain": [
       "  0%|          | 0/500 [00:00<?, ?it/s]"
      ]
     },
     "metadata": {},
     "output_type": "display_data"
    },
    {
     "data": {
      "application/vnd.jupyter.widget-view+json": {
       "model_id": "c606d5300cff4e7594dff29b29802ef6",
       "version_major": 2,
       "version_minor": 0
      },
      "text/plain": [
       "  0%|          | 0/500 [00:00<?, ?it/s]"
      ]
     },
     "metadata": {},
     "output_type": "display_data"
    },
    {
     "data": {
      "application/vnd.jupyter.widget-view+json": {
       "model_id": "3370f4a801f44e1cbd423fdf91437069",
       "version_major": 2,
       "version_minor": 0
      },
      "text/plain": [
       "  0%|          | 0/500 [00:00<?, ?it/s]"
      ]
     },
     "metadata": {},
     "output_type": "display_data"
    },
    {
     "data": {
      "application/vnd.jupyter.widget-view+json": {
       "model_id": "ce279bd99b33435c8100d04cba457fb0",
       "version_major": 2,
       "version_minor": 0
      },
      "text/plain": [
       "  0%|          | 0/500 [00:00<?, ?it/s]"
      ]
     },
     "metadata": {},
     "output_type": "display_data"
    },
    {
     "data": {
      "application/vnd.jupyter.widget-view+json": {
       "model_id": "6a212b22c2d145118d844ef02e08ea0d",
       "version_major": 2,
       "version_minor": 0
      },
      "text/plain": [
       "  0%|          | 0/500 [00:00<?, ?it/s]"
      ]
     },
     "metadata": {},
     "output_type": "display_data"
    },
    {
     "data": {
      "application/vnd.jupyter.widget-view+json": {
       "model_id": "8537e8af5f7c4c4082b850a4f080eae9",
       "version_major": 2,
       "version_minor": 0
      },
      "text/plain": [
       "  0%|          | 0/500 [00:00<?, ?it/s]"
      ]
     },
     "metadata": {},
     "output_type": "display_data"
    }
   ],
   "source": [
    "# checking best nstates fit\n",
    "maxstates = 15\n",
    "inputdim = 2\n",
    "obsdim = 1\n",
    "ncatergories = 2\n",
    "niterations = 500\n",
    "\n",
    "statell = np.zeros(maxstates)\n",
    "for kk in range(maxstates):\n",
    "    nstates = kk + 1\n",
    "    glmhmm = ssm.HMM(nstates, obsdim, inputdim,  observations = 'input_driven_obs',\n",
    "    observation_kwargs = dict(C = ncatergories), transitions = \"standard\")\n",
    "    \n",
    "    glmhmm2fit = glmhmm.fit(Y, inputs = inputs, method = 'em', num_iters = niterations, tolerance = 10**-4)\n",
    "\n",
    "    statell[kk] = glmhmm2fit[-1]"
   ]
  },
  {
   "cell_type": "code",
   "execution_count": 9,
   "metadata": {},
   "outputs": [
    {
     "data": {
      "image/png": "[encoded data removed]",
      "text/plain": [
       "<Figure size 432x288 with 1 Axes>"
      ]
     },
     "metadata": {
      "needs_background": "light"
     },
     "output_type": "display_data"
    }
   ],
   "source": [
    "#plotting LL for each number of states\n",
    "fig, ax = plt.subplots(1,1)\n",
    "xx = np.arange(maxstates) + 1\n",
    "plt.plot(xx, statell, marker = 'o', markersize = 10, color = 'gray', linestyle = '-')\n",
    "\n",
    "# axis options\n",
    "plt.xlabel('number of states', fontsize = 15)\n",
    "plt.xlim(.5, maxstates + .5)\n",
    "plt.ylabel('log probability', fontsize = 15)\n",
    "ax.spines['top'].set_visible(False)\n",
    "ax.spines['right'].set_visible(False) \n"
   ]
  },
  {
   "cell_type": "code",
   "execution_count": 11,
   "metadata": {},
   "outputs": [
    {
     "data": {
      "application/vnd.jupyter.widget-view+json": {
       "model_id": "52a3e34b23af47fd84644f3e3765a2cf",
       "version_major": 2,
       "version_minor": 0
      },
      "text/plain": [
       "  0%|          | 0/300 [00:00<?, ?it/s]"
      ]
     },
     "metadata": {},
     "output_type": "display_data"
    }
   ],
   "source": [
    "# setting glm-hmm parameters\n",
    "nstates = 3\n",
    "obsdim = 1\n",
    "ncatergories = 2\n",
    "niterations = 300\n",
    "\n",
    "# creating new df variables for estimated states from glmhmm\n",
    "df['pstate1'] = np.zeros(len(df))\n",
    "df['pstate2'] = np.zeros(len(df))\n",
    "df['pstate3'] = np.zeros(len(df))\n",
    "df['state'] = np.zeros(len(df))\n",
    "\n",
    "glmhmm = ssm.HMM(nstates, obsdim, inputdim,  observations = 'input_driven_obs',\n",
    "            observation_kwargs = dict(C = ncatergories), transitions = \"standard\")\n",
    "glmhmm2fit = glmhmm.fit(Y, inputs = inputs, method = 'em', num_iters = niterations, tolerance = 10**-5)\n",
    "\n",
    "# saving the glm weights and transition matrix values\n",
    "w = - glmhmm.observations.params.reshape(nstates,inputdim)\n",
    "transmat = glmhmm.transitions.transition_matrix\n",
    "\n",
    "# getting expected states\n",
    "posterior_pstate = [glmhmm.expected_states(data = data, input = inputs)[0]\n",
    "                    for data, inputs\n",
    "                    in zip(Y, inputs)]\n"
   ]
  },
  {
   "cell_type": "code",
   "execution_count": 54,
   "metadata": {},
   "outputs": [
    {
     "name": "stderr",
     "output_type": "stream",
     "text": [
      "/var/folders/cg/jhwhw7qn5gl9_pb586p8cmf80000gp/T/ipykernel_52041/1987631765.py:7: UserWarning: Pandas doesn't allow columns to be created via a new attribute name - see https://pandas.pydata.org/pandas-docs/stable/indexing.html#attribute-access\n",
      "  df.state = df[['pstate1', 'pstate2', 'pstate3']].idxmax(axis = 1)\n"
     ]
    }
   ],
   "source": [
    "# saving expected states  for each trialin the data frame\n",
    "ppstate_aux = np.array([item for sublist in posterior_pstate for item in sublist])\n",
    "df['pstate1'] = ppstate_aux[:,0]\n",
    "df['pstate2'] = ppstate_aux[:,1]\n",
    "df['pstate3'] = ppstate_aux[:,2]\n",
    "\n",
    "df.state = df[['pstate1', 'pstate2', 'pstate3']].idxmax(axis = 1)    "
   ]
  },
  {
   "cell_type": "code",
   "execution_count": 40,
   "metadata": {},
   "outputs": [
    {
     "data": {
      "image/png": "[encoded data removed]",
      "text/plain": [
       "<Figure size 2880x720 with 4 Axes>"
      ]
     },
     "metadata": {
      "needs_background": "light"
     },
     "output_type": "display_data"
    }
   ],
   "source": [
    "fig, ax = plt.subplots(1, 4, figsize = (40,10))\n",
    "\n",
    "# getting relevant data\n",
    "evs = np.unique(inputs[0][:,0])\n",
    "evspace = np.linspace(np.min(evs), np.max(evs), 1000)\n",
    "X = np.array([\n",
    "evspace,\n",
    "np.repeat(1, len(evspace))]).T\n",
    "\n",
    "transitionmatrix = transmat\n",
    "\n",
    "for kk in range(nstates):             \n",
    "    glmweights = w[kk,:]\n",
    "    wX = np.matmul(X, glmweights)\n",
    "\n",
    "    ## plot glm weights for each covariate\n",
    "    plt.subplot(1,4,1)\n",
    "    plt.plot(range(inputdim), glmweights, marker = 'o', lw = 3,\n",
    "             color = colors[kk], alpha = .7, linestyle = '-', label = 'state ' + str(kk+1))\n",
    "\n",
    "    # axis options\n",
    "    plt.xticks(fontsize = 20)\n",
    "    plt.yticks(fontsize = 20)\n",
    "    plt.ylabel('glm weight', fontsize = 20)\n",
    "    plt.xticks(range(inputdim), ['normalized $\\Delta$ EV ', 'bias'],  fontsize = 20)\n",
    "    plt.axhline(y = 0, color = 'k', alpha = .5, ls = '--')\n",
    "    plt.legend()\n",
    "    ax[0].spines['top'].set_visible(False)\n",
    "    ax[0].spines['right'].set_visible(False)\n",
    "\n",
    "    ## plot fractional occupancy\n",
    "    plt.subplot(1,4,2)\n",
    "    occ = sum(df.state == statestr[kk])/len(df)\n",
    "    plt.bar(kk, occ, width = .75, color = colors[kk], alpha = .7)\n",
    "\n",
    "    # axis options\n",
    "    plt.ylim((0,1))\n",
    "    plt.xticks(fontsize = 15)\n",
    "    plt.yticks(fontsize = 15)\n",
    "    plt.xlabel('state', fontsize = 15)  \n",
    "    plt.ylabel('state fractional occupancy', fontsize = 15)\n",
    "    plt.xticks([0,1,2], ['1','2','3'], fontsize = 15)\n",
    "    ax[1].spines['top'].set_visible(False)\n",
    "    ax[1].spines['right'].set_visible(False)\n",
    "\n",
    "    ## plot transition matrix\n",
    "    plt.subplot(1,4,3)\n",
    "    plt.imshow(transitionmatrix, vmin = -.8, vmax = 1, cmap = 'bone')\n",
    "\n",
    "    for jj in range(nstates):\n",
    "        text = plt.text(jj, kk, str(np.round(transitionmatrix[kk, jj],2)), ha = 'center', va = 'center', color = 'k', fontsize = 20)\n",
    "\n",
    "        plt.xlim(-.5, nstates - .5)\n",
    "        plt.xticks(range(0, nstates), ('1', '2', '3'), fontsize = 20)\n",
    "        plt.yticks(range(0, nstates), ('1', '2', '3'), fontsize = 20)\n",
    "        plt.ylim(nstates - .5, -.5)\n",
    "        plt.ylabel('state at trial (t)', fontsize = 20)\n",
    "        plt.xlabel('state at trial (t + 1)', fontsize = 20)\n",
    "\n",
    "\n",
    "    ## plot glm psycurves\n",
    "    plt.subplot(1,4,4)\n",
    "    plt.plot(evspace, expit(wX), lw = 2.5, color = colors[kk])\n",
    "\n",
    "    # reference lines\n",
    "    plt.axvline(0, linestyle = ':', c = 'k',  lw = .5)\n",
    "    plt.axhline(.5, linestyle = ':', c = 'k', lw = .5)\n",
    "\n",
    "    # axis options\n",
    "    plt.ylim((-.05, 1.05))\n",
    "    plt.xlabel('normalized $\\Delta$ EV',  fontsize = 20)  \n",
    "    plt.ylabel('p(risk)', fontsize = 20)\n",
    "    ax[3].set_yticks([0, .5, 1])\n",
    "    plt.xticks(fontsize = 20)\n",
    "    plt.yticks(fontsize = 20)\n",
    "    ax[3].spines['top'].set_visible(False)\n",
    "    ax[3].spines['right'].set_visible(False)\n"
   ]
  },
  {
   "cell_type": "code",
   "execution_count": 41,
   "metadata": {},
   "outputs": [
    {
     "name": "stdout",
     "output_type": "stream",
     "text": [
      "pstate3    0.388994\n",
      "pstate2    0.377728\n",
      "pstate1    0.233278\n",
      "Name: state, dtype: float64\n",
      "pstate2    0.465762\n",
      "pstate3    0.360465\n",
      "pstate1    0.173773\n",
      "Name: state, dtype: float64\n",
      "pstate3    0.755839\n",
      "pstate2    0.244161\n",
      "Name: state, dtype: float64\n",
      "pstate2    0.533052\n",
      "pstate3    0.286920\n",
      "pstate1    0.180028\n",
      "Name: state, dtype: float64\n",
      "pstate2    0.563430\n",
      "pstate3    0.258682\n",
      "pstate1    0.177888\n",
      "Name: state, dtype: float64\n",
      "pstate2    0.424533\n",
      "pstate3    0.409067\n",
      "pstate1    0.166400\n",
      "Name: state, dtype: float64\n",
      "pstate3    0.472763\n",
      "pstate2    0.366732\n",
      "pstate1    0.160506\n",
      "Name: state, dtype: float64\n",
      "pstate3    0.507634\n",
      "pstate2    0.342239\n",
      "pstate1    0.150127\n",
      "Name: state, dtype: float64\n"
     ]
    },
    {
     "data": {
      "image/png": "[encoded data removed]",
      "text/plain": [
       "<Figure size 1800x360 with 3 Axes>"
      ]
     },
     "metadata": {
      "needs_background": "light"
     },
     "output_type": "display_data"
    }
   ],
   "source": [
    "statestr = ['pstate1','pstate2','pstate3']\n",
    "regions = df.region.unique()\n",
    "nregions = len(regions)\n",
    "evs = np.unique(df.deltaEV)\n",
    "evspace = np.linspace(np.min(evs), np.max(evs), 1000)\n",
    "X = np.array([\n",
    "    evspace,\n",
    "    np.repeat(1, len(evspace))]).T\n",
    "transitionmatrix = np.round(transmat, 2)\n",
    "\n",
    "fig, ax = plt.subplots(1, nregions, figsize = (25,5))\n",
    "\n",
    "for rr in range(nregions):\n",
    "    regiondata = df[df.region == regions[rr]]\n",
    "    musdoses = np.sort(regiondata.musdose.unique())\n",
    "    ndoses = len(musdoses)\n",
    "\n",
    "    plt.subplot(1, nregions + 1, rr + 1)\n",
    "    plt.title(regions[rr], fontsize = 15)\n",
    "    \n",
    "    for mm in range(ndoses):\n",
    "        musdosedata = regiondata[regiondata.musdose == musdoses[mm]]\n",
    "        occ = musdosedata['state'].value_counts()/len(musdosedata)\n",
    "        print(occ)\n",
    "        occ = occ.reindex(index = statestr)\n",
    "        occ = np.nan_to_num(occ)\n",
    "        \n",
    "        xx = np.linspace(-.15 , .15, nstates)\n",
    "        plt.bar(xx + mm, occ, color = colors, label = statestr, width = .12)\n",
    "        \n",
    "    # axis options\n",
    "    plt.xlabel('muscimol dose',  fontsize = 15)  \n",
    "    plt.ylabel('p(state)', fontsize = 15)\n",
    "    plt.xticks(range(0, ndoses), musdoses)\n",
    "    plt.xticks(fontsize = 15)\n",
    "    plt.yticks(fontsize = 15)\n",
    "    plt.xlim((-.5, 2.5))\n",
    "    plt.ylim((0, 1.05))\n",
    "    ax[rr].spines['top'].set_visible(False)\n",
    "    ax[rr].spines['right'].set_visible(False) "
   ]
  },
  {
   "cell_type": "code",
   "execution_count": 43,
   "metadata": {},
   "outputs": [
    {
     "data": {
      "text/html": [
       "<div>\n",
       "<style scoped>\n",
       "    .dataframe tbody tr th:only-of-type {\n",
       "        vertical-align: middle;\n",
       "    }\n",
       "\n",
       "    .dataframe tbody tr th {\n",
       "        vertical-align: top;\n",
       "    }\n",
       "\n",
       "    .dataframe thead th {\n",
       "        text-align: right;\n",
       "    }\n",
       "</style>\n",
       "<table border=\"1\" class=\"dataframe\">\n",
       "  <thead>\n",
       "    <tr style=\"text-align: right;\">\n",
       "      <th></th>\n",
       "      <th></th>\n",
       "      <th>animal</th>\n",
       "      <th>sessionid</th>\n",
       "      <th>trialnumber</th>\n",
       "      <th>trial_block</th>\n",
       "      <th>lotterymag</th>\n",
       "      <th>lotteryprob</th>\n",
       "      <th>surebetmag</th>\n",
       "      <th>rewardreceived</th>\n",
       "      <th>lotterychoice</th>\n",
       "      <th>lotteryoutcome</th>\n",
       "      <th>choiceout</th>\n",
       "      <th>deltaEV</th>\n",
       "      <th>pstate1</th>\n",
       "      <th>pstate2</th>\n",
       "      <th>pstate3</th>\n",
       "    </tr>\n",
       "    <tr>\n",
       "      <th>region</th>\n",
       "      <th>musdose</th>\n",
       "      <th></th>\n",
       "      <th></th>\n",
       "      <th></th>\n",
       "      <th></th>\n",
       "      <th></th>\n",
       "      <th></th>\n",
       "      <th></th>\n",
       "      <th></th>\n",
       "      <th></th>\n",
       "      <th></th>\n",
       "      <th></th>\n",
       "      <th></th>\n",
       "      <th></th>\n",
       "      <th></th>\n",
       "      <th></th>\n",
       "    </tr>\n",
       "  </thead>\n",
       "  <tbody>\n",
       "    <tr>\n",
       "      <th>ctrl</th>\n",
       "      <th>0.000</th>\n",
       "      <td>2155.713828</td>\n",
       "      <td>172174.300522</td>\n",
       "      <td>65.694379</td>\n",
       "      <td>22.190821</td>\n",
       "      <td>10.320683</td>\n",
       "      <td>0.513781</td>\n",
       "      <td>3.000000</td>\n",
       "      <td>62.685484</td>\n",
       "      <td>0.412358</td>\n",
       "      <td>0.510555</td>\n",
       "      <td>0.005100</td>\n",
       "      <td>0.154608</td>\n",
       "      <td>0.242900</td>\n",
       "      <td>0.366929</td>\n",
       "      <td>0.390172</td>\n",
       "    </tr>\n",
       "    <tr>\n",
       "      <th rowspan=\"4\" valign=\"top\">fof</th>\n",
       "      <th>0.000</th>\n",
       "      <td>2157.056202</td>\n",
       "      <td>186677.765504</td>\n",
       "      <td>70.005491</td>\n",
       "      <td>22.373062</td>\n",
       "      <td>10.441214</td>\n",
       "      <td>0.511644</td>\n",
       "      <td>3.005993</td>\n",
       "      <td>66.698735</td>\n",
       "      <td>0.424096</td>\n",
       "      <td>0.501938</td>\n",
       "      <td>0.000969</td>\n",
       "      <td>0.155592</td>\n",
       "      <td>0.190555</td>\n",
       "      <td>0.443187</td>\n",
       "      <td>0.366258</td>\n",
       "    </tr>\n",
       "    <tr>\n",
       "      <th>0.075</th>\n",
       "      <td>2153.645435</td>\n",
       "      <td>178797.577495</td>\n",
       "      <td>62.543524</td>\n",
       "      <td>21.532909</td>\n",
       "      <td>10.271762</td>\n",
       "      <td>0.512633</td>\n",
       "      <td>3.000000</td>\n",
       "      <td>63.244161</td>\n",
       "      <td>0.437367</td>\n",
       "      <td>0.513800</td>\n",
       "      <td>0.021231</td>\n",
       "      <td>0.154719</td>\n",
       "      <td>0.016441</td>\n",
       "      <td>0.236716</td>\n",
       "      <td>0.746844</td>\n",
       "    </tr>\n",
       "    <tr>\n",
       "      <th>0.150</th>\n",
       "      <td>2159.573840</td>\n",
       "      <td>198283.540084</td>\n",
       "      <td>63.593530</td>\n",
       "      <td>19.448664</td>\n",
       "      <td>10.222222</td>\n",
       "      <td>0.521097</td>\n",
       "      <td>3.761010</td>\n",
       "      <td>86.028270</td>\n",
       "      <td>0.399437</td>\n",
       "      <td>0.544304</td>\n",
       "      <td>0.061885</td>\n",
       "      <td>0.109921</td>\n",
       "      <td>0.193653</td>\n",
       "      <td>0.509117</td>\n",
       "      <td>0.297230</td>\n",
       "    </tr>\n",
       "    <tr>\n",
       "      <th>0.300</th>\n",
       "      <td>2158.043940</td>\n",
       "      <td>190649.097803</td>\n",
       "      <td>60.170092</td>\n",
       "      <td>21.746988</td>\n",
       "      <td>10.412473</td>\n",
       "      <td>0.512013</td>\n",
       "      <td>3.376801</td>\n",
       "      <td>63.989265</td>\n",
       "      <td>0.330971</td>\n",
       "      <td>0.501772</td>\n",
       "      <td>-0.006378</td>\n",
       "      <td>0.128335</td>\n",
       "      <td>0.200483</td>\n",
       "      <td>0.539196</td>\n",
       "      <td>0.260320</td>\n",
       "    </tr>\n",
       "    <tr>\n",
       "      <th rowspan=\"3\" valign=\"top\">ppc</th>\n",
       "      <th>0.000</th>\n",
       "      <td>2156.520533</td>\n",
       "      <td>180099.564267</td>\n",
       "      <td>62.728000</td>\n",
       "      <td>22.399467</td>\n",
       "      <td>10.376533</td>\n",
       "      <td>0.512347</td>\n",
       "      <td>3.057227</td>\n",
       "      <td>65.153067</td>\n",
       "      <td>0.458667</td>\n",
       "      <td>0.491200</td>\n",
       "      <td>-0.003200</td>\n",
       "      <td>0.149732</td>\n",
       "      <td>0.180914</td>\n",
       "      <td>0.417804</td>\n",
       "      <td>0.401282</td>\n",
       "    </tr>\n",
       "    <tr>\n",
       "      <th>0.300</th>\n",
       "      <td>2155.274319</td>\n",
       "      <td>173739.937743</td>\n",
       "      <td>68.356031</td>\n",
       "      <td>22.132296</td>\n",
       "      <td>10.276265</td>\n",
       "      <td>0.512208</td>\n",
       "      <td>3.000000</td>\n",
       "      <td>63.058366</td>\n",
       "      <td>0.398833</td>\n",
       "      <td>0.531128</td>\n",
       "      <td>0.015564</td>\n",
       "      <td>0.154386</td>\n",
       "      <td>0.149928</td>\n",
       "      <td>0.382515</td>\n",
       "      <td>0.467558</td>\n",
       "    </tr>\n",
       "    <tr>\n",
       "      <th>0.600</th>\n",
       "      <td>2157.961832</td>\n",
       "      <td>188318.786260</td>\n",
       "      <td>55.979644</td>\n",
       "      <td>23.660305</td>\n",
       "      <td>10.343511</td>\n",
       "      <td>0.511196</td>\n",
       "      <td>3.304326</td>\n",
       "      <td>69.682952</td>\n",
       "      <td>0.451654</td>\n",
       "      <td>0.507634</td>\n",
       "      <td>-0.011450</td>\n",
       "      <td>0.126920</td>\n",
       "      <td>0.146287</td>\n",
       "      <td>0.369710</td>\n",
       "      <td>0.484003</td>\n",
       "    </tr>\n",
       "  </tbody>\n",
       "</table>\n",
       "</div>"
      ],
      "text/plain": [
       "                     animal      sessionid  trialnumber  trial_block  \\\n",
       "region musdose                                                         \n",
       "ctrl   0.000    2155.713828  172174.300522    65.694379    22.190821   \n",
       "fof    0.000    2157.056202  186677.765504    70.005491    22.373062   \n",
       "       0.075    2153.645435  178797.577495    62.543524    21.532909   \n",
       "       0.150    2159.573840  198283.540084    63.593530    19.448664   \n",
       "       0.300    2158.043940  190649.097803    60.170092    21.746988   \n",
       "ppc    0.000    2156.520533  180099.564267    62.728000    22.399467   \n",
       "       0.300    2155.274319  173739.937743    68.356031    22.132296   \n",
       "       0.600    2157.961832  188318.786260    55.979644    23.660305   \n",
       "\n",
       "                lotterymag  lotteryprob  surebetmag  rewardreceived  \\\n",
       "region musdose                                                        \n",
       "ctrl   0.000     10.320683     0.513781    3.000000       62.685484   \n",
       "fof    0.000     10.441214     0.511644    3.005993       66.698735   \n",
       "       0.075     10.271762     0.512633    3.000000       63.244161   \n",
       "       0.150     10.222222     0.521097    3.761010       86.028270   \n",
       "       0.300     10.412473     0.512013    3.376801       63.989265   \n",
       "ppc    0.000     10.376533     0.512347    3.057227       65.153067   \n",
       "       0.300     10.276265     0.512208    3.000000       63.058366   \n",
       "       0.600     10.343511     0.511196    3.304326       69.682952   \n",
       "\n",
       "                lotterychoice  lotteryoutcome  choiceout   deltaEV   pstate1  \\\n",
       "region musdose                                                                 \n",
       "ctrl   0.000         0.412358        0.510555   0.005100  0.154608  0.242900   \n",
       "fof    0.000         0.424096        0.501938   0.000969  0.155592  0.190555   \n",
       "       0.075         0.437367        0.513800   0.021231  0.154719  0.016441   \n",
       "       0.150         0.399437        0.544304   0.061885  0.109921  0.193653   \n",
       "       0.300         0.330971        0.501772  -0.006378  0.128335  0.200483   \n",
       "ppc    0.000         0.458667        0.491200  -0.003200  0.149732  0.180914   \n",
       "       0.300         0.398833        0.531128   0.015564  0.154386  0.149928   \n",
       "       0.600         0.451654        0.507634  -0.011450  0.126920  0.146287   \n",
       "\n",
       "                 pstate2   pstate3  \n",
       "region musdose                      \n",
       "ctrl   0.000    0.366929  0.390172  \n",
       "fof    0.000    0.443187  0.366258  \n",
       "       0.075    0.236716  0.746844  \n",
       "       0.150    0.509117  0.297230  \n",
       "       0.300    0.539196  0.260320  \n",
       "ppc    0.000    0.417804  0.401282  \n",
       "       0.300    0.382515  0.467558  \n",
       "       0.600    0.369710  0.484003  "
      ]
     },
     "execution_count": 43,
     "metadata": {},
     "output_type": "execute_result"
    }
   ],
   "source": [
    "df.groupby(['region','musdose']).agg('mean')"
   ]
  },
  {
   "cell_type": "code",
   "execution_count": 55,
   "metadata": {},
   "outputs": [],
   "source": [
    "# psycurves with data - plot for each region & dose\n",
    "# change normalization\n",
    "#"
   ]
  },
  {
   "cell_type": "code",
   "execution_count": 53,
   "metadata": {},
   "outputs": [
    {
     "data": {
      "text/html": [
       "<div>\n",
       "<style scoped>\n",
       "    .dataframe tbody tr th:only-of-type {\n",
       "        vertical-align: middle;\n",
       "    }\n",
       "\n",
       "    .dataframe tbody tr th {\n",
       "        vertical-align: top;\n",
       "    }\n",
       "\n",
       "    .dataframe thead th {\n",
       "        text-align: right;\n",
       "    }\n",
       "</style>\n",
       "<table border=\"1\" class=\"dataframe\">\n",
       "  <thead>\n",
       "    <tr style=\"text-align: right;\">\n",
       "      <th></th>\n",
       "      <th>animal</th>\n",
       "      <th>sessionid</th>\n",
       "      <th>trialnumber</th>\n",
       "      <th>trial_block</th>\n",
       "      <th>lotterymag</th>\n",
       "      <th>lotteryprob</th>\n",
       "      <th>surebetmag</th>\n",
       "      <th>rewardreceived</th>\n",
       "      <th>lotterychoice</th>\n",
       "      <th>lotteryoutcome</th>\n",
       "      <th>musdose</th>\n",
       "      <th>region</th>\n",
       "      <th>choiceout</th>\n",
       "      <th>deltaEV</th>\n",
       "      <th>normdeltaEV</th>\n",
       "    </tr>\n",
       "  </thead>\n",
       "  <tbody>\n",
       "    <tr>\n",
       "      <th>0</th>\n",
       "      <td>2152</td>\n",
       "      <td>158487.0</td>\n",
       "      <td>2.0</td>\n",
       "      <td>2.0</td>\n",
       "      <td>0.0</td>\n",
       "      <td>0.55</td>\n",
       "      <td>3.0</td>\n",
       "      <td>24.0</td>\n",
       "      <td>0.0</td>\n",
       "      <td>0.0</td>\n",
       "      <td>0.0</td>\n",
       "      <td>ctrl</td>\n",
       "      <td>0.0</td>\n",
       "      <td>-24.0</td>\n",
       "      <td>-0.205479</td>\n",
       "    </tr>\n",
       "    <tr>\n",
       "      <th>1</th>\n",
       "      <td>2152</td>\n",
       "      <td>158487.0</td>\n",
       "      <td>4.0</td>\n",
       "      <td>4.0</td>\n",
       "      <td>8.0</td>\n",
       "      <td>0.55</td>\n",
       "      <td>3.0</td>\n",
       "      <td>24.0</td>\n",
       "      <td>0.0</td>\n",
       "      <td>1.0</td>\n",
       "      <td>0.0</td>\n",
       "      <td>ctrl</td>\n",
       "      <td>0.0</td>\n",
       "      <td>11.2</td>\n",
       "      <td>0.095890</td>\n",
       "    </tr>\n",
       "    <tr>\n",
       "      <th>2</th>\n",
       "      <td>2152</td>\n",
       "      <td>158487.0</td>\n",
       "      <td>6.0</td>\n",
       "      <td>6.0</td>\n",
       "      <td>0.0</td>\n",
       "      <td>0.55</td>\n",
       "      <td>3.0</td>\n",
       "      <td>24.0</td>\n",
       "      <td>0.0</td>\n",
       "      <td>1.0</td>\n",
       "      <td>0.0</td>\n",
       "      <td>ctrl</td>\n",
       "      <td>0.0</td>\n",
       "      <td>-24.0</td>\n",
       "      <td>-0.205479</td>\n",
       "    </tr>\n",
       "    <tr>\n",
       "      <th>3</th>\n",
       "      <td>2152</td>\n",
       "      <td>158487.0</td>\n",
       "      <td>7.0</td>\n",
       "      <td>7.0</td>\n",
       "      <td>4.0</td>\n",
       "      <td>0.55</td>\n",
       "      <td>3.0</td>\n",
       "      <td>24.0</td>\n",
       "      <td>0.0</td>\n",
       "      <td>1.0</td>\n",
       "      <td>0.0</td>\n",
       "      <td>ctrl</td>\n",
       "      <td>0.0</td>\n",
       "      <td>-6.4</td>\n",
       "      <td>-0.054795</td>\n",
       "    </tr>\n",
       "    <tr>\n",
       "      <th>4</th>\n",
       "      <td>2152</td>\n",
       "      <td>158487.0</td>\n",
       "      <td>9.0</td>\n",
       "      <td>9.0</td>\n",
       "      <td>4.0</td>\n",
       "      <td>0.55</td>\n",
       "      <td>3.0</td>\n",
       "      <td>24.0</td>\n",
       "      <td>0.0</td>\n",
       "      <td>0.0</td>\n",
       "      <td>0.0</td>\n",
       "      <td>ctrl</td>\n",
       "      <td>0.0</td>\n",
       "      <td>-6.4</td>\n",
       "      <td>-0.054795</td>\n",
       "    </tr>\n",
       "    <tr>\n",
       "      <th>...</th>\n",
       "      <td>...</td>\n",
       "      <td>...</td>\n",
       "      <td>...</td>\n",
       "      <td>...</td>\n",
       "      <td>...</td>\n",
       "      <td>...</td>\n",
       "      <td>...</td>\n",
       "      <td>...</td>\n",
       "      <td>...</td>\n",
       "      <td>...</td>\n",
       "      <td>...</td>\n",
       "      <td>...</td>\n",
       "      <td>...</td>\n",
       "      <td>...</td>\n",
       "      <td>...</td>\n",
       "    </tr>\n",
       "    <tr>\n",
       "      <th>17805</th>\n",
       "      <td>2166</td>\n",
       "      <td>189035.0</td>\n",
       "      <td>88.0</td>\n",
       "      <td>24.0</td>\n",
       "      <td>16.0</td>\n",
       "      <td>0.60</td>\n",
       "      <td>3.0</td>\n",
       "      <td>256.0</td>\n",
       "      <td>1.0</td>\n",
       "      <td>1.0</td>\n",
       "      <td>0.6</td>\n",
       "      <td>ppc</td>\n",
       "      <td>1.0</td>\n",
       "      <td>105.6</td>\n",
       "      <td>0.350762</td>\n",
       "    </tr>\n",
       "    <tr>\n",
       "      <th>17806</th>\n",
       "      <td>2166</td>\n",
       "      <td>189035.0</td>\n",
       "      <td>89.0</td>\n",
       "      <td>25.0</td>\n",
       "      <td>0.0</td>\n",
       "      <td>0.60</td>\n",
       "      <td>3.0</td>\n",
       "      <td>48.0</td>\n",
       "      <td>0.0</td>\n",
       "      <td>1.0</td>\n",
       "      <td>0.6</td>\n",
       "      <td>ppc</td>\n",
       "      <td>0.0</td>\n",
       "      <td>-48.0</td>\n",
       "      <td>-0.159437</td>\n",
       "    </tr>\n",
       "    <tr>\n",
       "      <th>17807</th>\n",
       "      <td>2166</td>\n",
       "      <td>189035.0</td>\n",
       "      <td>90.0</td>\n",
       "      <td>26.0</td>\n",
       "      <td>4.0</td>\n",
       "      <td>0.60</td>\n",
       "      <td>3.0</td>\n",
       "      <td>48.0</td>\n",
       "      <td>0.0</td>\n",
       "      <td>1.0</td>\n",
       "      <td>0.6</td>\n",
       "      <td>ppc</td>\n",
       "      <td>0.0</td>\n",
       "      <td>-9.6</td>\n",
       "      <td>-0.031887</td>\n",
       "    </tr>\n",
       "    <tr>\n",
       "      <th>17808</th>\n",
       "      <td>2166</td>\n",
       "      <td>189035.0</td>\n",
       "      <td>92.0</td>\n",
       "      <td>28.0</td>\n",
       "      <td>4.0</td>\n",
       "      <td>0.60</td>\n",
       "      <td>3.0</td>\n",
       "      <td>48.0</td>\n",
       "      <td>0.0</td>\n",
       "      <td>1.0</td>\n",
       "      <td>0.6</td>\n",
       "      <td>ppc</td>\n",
       "      <td>0.0</td>\n",
       "      <td>-9.6</td>\n",
       "      <td>-0.031887</td>\n",
       "    </tr>\n",
       "    <tr>\n",
       "      <th>17809</th>\n",
       "      <td>2166</td>\n",
       "      <td>189035.0</td>\n",
       "      <td>93.0</td>\n",
       "      <td>29.0</td>\n",
       "      <td>0.0</td>\n",
       "      <td>0.60</td>\n",
       "      <td>3.0</td>\n",
       "      <td>0.0</td>\n",
       "      <td>1.0</td>\n",
       "      <td>0.0</td>\n",
       "      <td>0.6</td>\n",
       "      <td>ppc</td>\n",
       "      <td>-1.0</td>\n",
       "      <td>-48.0</td>\n",
       "      <td>-0.159437</td>\n",
       "    </tr>\n",
       "  </tbody>\n",
       "</table>\n",
       "<p>17810 rows × 15 columns</p>\n",
       "</div>"
      ],
      "text/plain": [
       "       animal  sessionid  trialnumber  trial_block  lotterymag  lotteryprob  \\\n",
       "0        2152   158487.0          2.0          2.0         0.0         0.55   \n",
       "1        2152   158487.0          4.0          4.0         8.0         0.55   \n",
       "2        2152   158487.0          6.0          6.0         0.0         0.55   \n",
       "3        2152   158487.0          7.0          7.0         4.0         0.55   \n",
       "4        2152   158487.0          9.0          9.0         4.0         0.55   \n",
       "...       ...        ...          ...          ...         ...          ...   \n",
       "17805    2166   189035.0         88.0         24.0        16.0         0.60   \n",
       "17806    2166   189035.0         89.0         25.0         0.0         0.60   \n",
       "17807    2166   189035.0         90.0         26.0         4.0         0.60   \n",
       "17808    2166   189035.0         92.0         28.0         4.0         0.60   \n",
       "17809    2166   189035.0         93.0         29.0         0.0         0.60   \n",
       "\n",
       "       surebetmag  rewardreceived  lotterychoice  lotteryoutcome  musdose  \\\n",
       "0             3.0            24.0            0.0             0.0      0.0   \n",
       "1             3.0            24.0            0.0             1.0      0.0   \n",
       "2             3.0            24.0            0.0             1.0      0.0   \n",
       "3             3.0            24.0            0.0             1.0      0.0   \n",
       "4             3.0            24.0            0.0             0.0      0.0   \n",
       "...           ...             ...            ...             ...      ...   \n",
       "17805         3.0           256.0            1.0             1.0      0.6   \n",
       "17806         3.0            48.0            0.0             1.0      0.6   \n",
       "17807         3.0            48.0            0.0             1.0      0.6   \n",
       "17808         3.0            48.0            0.0             1.0      0.6   \n",
       "17809         3.0             0.0            1.0             0.0      0.6   \n",
       "\n",
       "      region  choiceout  deltaEV  normdeltaEV  \n",
       "0       ctrl        0.0    -24.0    -0.205479  \n",
       "1       ctrl        0.0     11.2     0.095890  \n",
       "2       ctrl        0.0    -24.0    -0.205479  \n",
       "3       ctrl        0.0     -6.4    -0.054795  \n",
       "4       ctrl        0.0     -6.4    -0.054795  \n",
       "...      ...        ...      ...          ...  \n",
       "17805    ppc        1.0    105.6     0.350762  \n",
       "17806    ppc        0.0    -48.0    -0.159437  \n",
       "17807    ppc        0.0     -9.6    -0.031887  \n",
       "17808    ppc        0.0     -9.6    -0.031887  \n",
       "17809    ppc       -1.0    -48.0    -0.159437  \n",
       "\n",
       "[17810 rows x 15 columns]"
      ]
     },
     "execution_count": 53,
     "metadata": {},
     "output_type": "execute_result"
    }
   ],
   "source": [
    "df"
   ]
  }
 ],
 "metadata": {
  "kernelspec": {
   "display_name": "Python 3.9.13 64-bit",
   "language": "python",
   "name": "python3"
  },
  "language_info": {
   "codemirror_mode": {
    "name": "ipython",
    "version": 3
   },
   "file_extension": ".py",
   "mimetype": "text/x-python",
   "name": "python",
   "nbconvert_exporter": "python",
   "pygments_lexer": "ipython3",
   "version": "3.9.13"
  },
  "orig_nbformat": 4,
  "vscode": {
   "interpreter": {
    "hash": "aee8b7b246df8f9039afb4144a1f6fd8d2ca17a180786b69acc140d282b71a49"
   }
  }
 },
 "nbformat": 4,
 "nbformat_minor": 2
}
