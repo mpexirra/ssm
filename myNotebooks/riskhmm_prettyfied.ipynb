{
 "cells": [
  {
   "cell_type": "code",
   "execution_count": 239,
   "id": "a16c975c",
   "metadata": {},
   "outputs": [],
   "source": [
    "# importing packages\n",
    "import numpy as np\n",
    "import matplotlib\n",
    "import matplotlib.pyplot as plt\n",
    "from matplotlib.lines import Line2D\n",
    "import matplotlib.lines as mlines\n",
    "from matplotlib.gridspec import GridSpec\n",
    "\n",
    "%matplotlib qt\n",
    "\n",
    "from scipy.optimize import curve_fit\n",
    "from scipy.special import expit\n",
    "\n",
    "import ssm\n",
    "from ssm import transitions \n",
    "\n",
    "import scipy.io\n",
    "import os\n",
    "import seaborn as sb\n",
    "import pandas as pd"
   ]
  },
  {
   "cell_type": "code",
   "execution_count": 240,
   "id": "838d427c",
   "metadata": {},
   "outputs": [],
   "source": [
    "# load data\n",
    "filename = 'C:/Users/Asus/Desktop/PhD/rotations/AnnJeff/data/riskdata/animalspaper.mat'\n",
    "data = scipy.io.loadmat(filename)\n",
    "data = data['riskydata']\n",
    "df = pd.DataFrame(data)\n",
    "df.columns = ['animal', 'sessionid', 'trialnumber', 'trial_block', 'lotterymag', 'lotteryprob', \n",
    "           'surebetmag', 'rewardreceived', 'lotterychoice', 'lotteryoutcome']"
   ]
  },
  {
   "cell_type": "code",
   "execution_count": 306,
   "id": "256a930d",
   "metadata": {},
   "outputs": [],
   "source": [
    "# defining plot colors\n",
    "stimcolors = sb.color_palette(\"rocket_r\")\n",
    "colors = ['gold', 'plum', 'lightskyblue']"
   ]
  },
  {
   "cell_type": "code",
   "execution_count": 241,
   "id": "1afbee81",
   "metadata": {},
   "outputs": [],
   "source": [
    "# getting relevant variables from data\n",
    "animals = df.animal.unique()\n",
    "nanimals = len(animals)"
   ]
  },
  {
   "cell_type": "code",
   "execution_count": 244,
   "id": "ee0772d6",
   "metadata": {},
   "outputs": [],
   "source": [
    "# normalization function\n",
    "def normV(X, method):   \n",
    "    if method == 'max':\n",
    "        return X/max(X)\n",
    "    if method == 'zscore':\n",
    "        return (X - np.mean(X))/np.std(X)"
   ]
  },
  {
   "cell_type": "code",
   "execution_count": 292,
   "id": "d5f83bf5",
   "metadata": {},
   "outputs": [],
   "source": [
    "# creating input structure compatible with the ssm package\n",
    "inputdim = 2\n",
    "inputs = []\n",
    "Y = []\n",
    "\n",
    "for aa in range(nanimals):\n",
    "    animaldata = df[df.animal == animals[aa]]\n",
    "    sessions = animaldata.sessionid.unique()\n",
    "    nsessions = len(sessions)\n",
    "    \n",
    "    inputsaux = []\n",
    "    yaux = []\n",
    "    for ss in range(nsessions):\n",
    "        sessiondata = animaldata[animaldata.sessionid == sessions[ss]]\n",
    "        ntrials = len(sessiondata)\n",
    "        inputsaux.append(np.ones([ntrials, inputdim]))\n",
    "        yaux.append(np.zeros([ntrials,1], dtype = int))\n",
    "        \n",
    "        sbmag = sessiondata.surebetmag[sessiondata.lotterychoice == 0].unique()\n",
    "        sbrwd = sessiondata.rewardreceived[sessiondata.lotterychoice == 0].unique()\n",
    "        rwdmult = sbrwd/sbmag\n",
    "        lotteryprob = sessiondata.lotteryprob.unique()\n",
    "        \n",
    "        deltaEV = rwdmult * (sessiondata.lotterymag * lotteryprob) - sbrwd\n",
    "        normdeltaEV = normV(deltaEV, 'max')\n",
    "        inputsaux[ss][:,0] = normdeltaEV\n",
    "        yaux[ss][:,0] = sessiondata.lotterychoice\n",
    "    \n",
    "    inputs.append(inputsaux)\n",
    "    Y.append(yaux)"
   ]
  },
  {
   "cell_type": "code",
   "execution_count": 369,
   "id": "f996b0f9",
   "metadata": {},
   "outputs": [
    {
     "data": {
      "application/vnd.jupyter.widget-view+json": {
       "model_id": "75c0bb2324564cbbb3aecdd0205e91fe",
       "version_major": 2,
       "version_minor": 0
      },
      "text/plain": [
       "  0%|          | 0/200 [00:00<?, ?it/s]"
      ]
     },
     "metadata": {},
     "output_type": "display_data"
    },
    {
     "data": {
      "application/vnd.jupyter.widget-view+json": {
       "model_id": "7963db5f009c4fbca8c276d7186321e3",
       "version_major": 2,
       "version_minor": 0
      },
      "text/plain": [
       "  0%|          | 0/200 [00:00<?, ?it/s]"
      ]
     },
     "metadata": {},
     "output_type": "display_data"
    },
    {
     "data": {
      "application/vnd.jupyter.widget-view+json": {
       "model_id": "520c8c15fff344ce98c9d05d3e18148b",
       "version_major": 2,
       "version_minor": 0
      },
      "text/plain": [
       "  0%|          | 0/200 [00:00<?, ?it/s]"
      ]
     },
     "metadata": {},
     "output_type": "display_data"
    },
    {
     "data": {
      "application/vnd.jupyter.widget-view+json": {
       "model_id": "cd1fca4257f54508adaa80f5ca4a7556",
       "version_major": 2,
       "version_minor": 0
      },
      "text/plain": [
       "  0%|          | 0/200 [00:00<?, ?it/s]"
      ]
     },
     "metadata": {},
     "output_type": "display_data"
    },
    {
     "data": {
      "application/vnd.jupyter.widget-view+json": {
       "model_id": "10abbab8f9c8448f9b13270e9cbfc040",
       "version_major": 2,
       "version_minor": 0
      },
      "text/plain": [
       "  0%|          | 0/200 [00:00<?, ?it/s]"
      ]
     },
     "metadata": {},
     "output_type": "display_data"
    },
    {
     "data": {
      "application/vnd.jupyter.widget-view+json": {
       "model_id": "87e824c7683c498c8a9bf4b4047a344f",
       "version_major": 2,
       "version_minor": 0
      },
      "text/plain": [
       "  0%|          | 0/200 [00:00<?, ?it/s]"
      ]
     },
     "metadata": {},
     "output_type": "display_data"
    },
    {
     "data": {
      "application/vnd.jupyter.widget-view+json": {
       "model_id": "8a4017360e83442d9eef260ea66c19ae",
       "version_major": 2,
       "version_minor": 0
      },
      "text/plain": [
       "  0%|          | 0/200 [00:00<?, ?it/s]"
      ]
     },
     "metadata": {},
     "output_type": "display_data"
    },
    {
     "data": {
      "application/vnd.jupyter.widget-view+json": {
       "model_id": "f18e318946bb45eeb8550860051fff55",
       "version_major": 2,
       "version_minor": 0
      },
      "text/plain": [
       "  0%|          | 0/200 [00:00<?, ?it/s]"
      ]
     },
     "metadata": {},
     "output_type": "display_data"
    }
   ],
   "source": [
    "# setting glm-hmm parameters\n",
    "nstates = 3\n",
    "obsdim = 1\n",
    "inputdim = 2\n",
    "ncatergories = 2\n",
    "niterations = 200\n",
    "# creating new df variables for estimated states from glmhmm\n",
    "df['pstate1'] = np.zeros(len(df))\n",
    "df['pstate2'] = np.zeros(len(df))\n",
    "df['pstate3'] = np.zeros(len(df))\n",
    "df['state'] = np.zeros(len(df))\n",
    "\n",
    "# creating variables to keep from HMM\n",
    "w = []\n",
    "transmat = []\n",
    "\n",
    "for aa in range(nanimals):\n",
    "    w.append(np.zeros([nstates, inputdim]))\n",
    "    transmat.append(np.zeros([nstates, nstates]))\n",
    "    \n",
    "    glmhmm = ssm.HMM(nstates, obsdim, inputdim,  observations = 'input_driven_obs',\n",
    "                observation_kwargs = dict(C = ncatergories), transitions = \"standard\")\n",
    "    glmhmm2fit = glmhmm.fit(Y[aa], inputs = inputs[aa], method = 'em', num_iters = niterations, tolerance = 10**-5)\n",
    "    \n",
    "    # saving the glm weights and transition matrix values\n",
    "    waux = - glmhmm.observations.params.reshape(nstates,inputdim)\n",
    "    sortidcs = waux[:, 1].argsort()\n",
    "    w[aa] = waux[sortidcs]\n",
    "    \n",
    "    transmat[aa] = glmhmm.transitions.transition_matrix[sortidcs]\n",
    "    \n",
    "    # getting expected states\n",
    "    posterior_pstate = [glmhmm.expected_states(data = data, input = inputs)[0]\n",
    "                        for data, inputs\n",
    "                        in zip(Y[aa], inputs[aa])]\n",
    "   \n",
    "    # saving expected states  for each trialin the data frame\n",
    "    ppstate_aux = np.array([item for sublist in posterior_pstate for item in sublist])\n",
    "    ppstate_aux[:, sortidcs]\n",
    "    df.loc[df.animal == animals[aa],['pstate1', 'pstate2','pstate3']] = ppstate_aux\n",
    "\n",
    "df.state = df[['pstate1', 'pstate2', 'pstate3']].idxmax(axis = 1)    "
   ]
  },
  {
   "cell_type": "code",
   "execution_count": 370,
   "id": "a9b870a6",
   "metadata": {},
   "outputs": [],
   "source": [
    "# plot psychometric curves & glm weights\n",
    "for aa in range(nanimals):\n",
    "    fig, ax = plt.subplots(1,2)\n",
    "    fig.suptitle('animal: ' + str(animals[aa]))\n",
    "    \n",
    "    evs = np.unique(inputs[aa][0][:,0])\n",
    "    evspace = np.linspace(np.min(evs), np.max(evs), 1000)\n",
    "    X = np.array([\n",
    "        evspace,\n",
    "        np.repeat(1, len(evspace))]).T\n",
    "    \n",
    "    for kk in range(nstates):       \n",
    "        # plot psycurves\n",
    "        plt.subplot(1,2,1)\n",
    "        \n",
    "        glmweights = w[aa][kk, :]\n",
    "        wX = np.matmul(X, glmweights)\n",
    "        \n",
    "        plt.plot(evspace, expit(wX), lw = 2.5, color = colors[kk])\n",
    "        \n",
    "        # reference lines\n",
    "        plt.axvline(0, linestyle = ':', c = 'k',  lw = .5)\n",
    "        plt.axhline(.5, linestyle = ':', c = 'k', lw = .5)\n",
    "    \n",
    "        # axis options\n",
    "        plt.ylim((-.05, 1.05))\n",
    "        plt.xlabel('$\\Delta$ EV')  \n",
    "        plt.ylabel('p(risk)')\n",
    "        ax[0].set_yticks([0, .5, 1])\n",
    "        plt.xticks(fontsize = 7.5)\n",
    "        plt.yticks(fontsize = 7.5)\n",
    "        ax[0].spines['top'].set_visible(False)\n",
    "        ax[0].spines['right'].set_visible(False)\n",
    "        \n",
    "        # plot glm weights for each covariate\n",
    "        plt.subplot(1,2,2)\n",
    "        plt.plot(range(inputdim), glmweights, marker = 'o', \n",
    "                 color = colors[kk], alpha = .7, linestyle = '-', label = 'state ' + str(kk+1))\n",
    "\n",
    "        plt.ylabel('glm weight')\n",
    "        plt.xticks(range(inputdim), ['$\\Delta$ EV ', 'bias'])\n",
    "        plt.axhline(y = 0, color = 'k', alpha = .5, ls = '--')\n",
    "        plt.legend()\n",
    "        ax[1].spines['top'].set_visible(False)\n",
    "        ax[1].spines['right'].set_visible(False)"
   ]
  }
 ],
 "metadata": {
  "kernelspec": {
   "display_name": "Python 3 (ipykernel)",
   "language": "python",
   "name": "python3"
  },
  "language_info": {
   "codemirror_mode": {
    "name": "ipython",
    "version": 3
   },
   "file_extension": ".py",
   "mimetype": "text/x-python",
   "name": "python",
   "nbconvert_exporter": "python",
   "pygments_lexer": "ipython3",
   "version": "3.7.4"
  }
 },
 "nbformat": 4,
 "nbformat_minor": 5
}
