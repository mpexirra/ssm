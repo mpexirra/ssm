{
 "cells": [
  {
   "cell_type": "code",
   "execution_count": 1,
   "id": "a16c975c",
   "metadata": {},
   "outputs": [],
   "source": [
    "# importing packages\n",
    "import numpy as np\n",
    "import matplotlib\n",
    "import matplotlib.pyplot as plt\n",
    "from matplotlib.lines import Line2D\n",
    "import matplotlib.lines as mlines\n",
    "from matplotlib.gridspec import GridSpec\n",
    "\n",
    "%matplotlib qt\n",
    "\n",
    "from scipy.optimize import curve_fit\n",
    "from scipy.special import expit\n",
    "\n",
    "import ssm\n",
    "from ssm import transitions \n",
    "\n",
    "import scipy.io\n",
    "import os\n",
    "import seaborn as sb\n",
    "import pandas as pd"
   ]
  },
  {
   "cell_type": "code",
   "execution_count": 47,
   "id": "44d7aed5",
   "metadata": {},
   "outputs": [],
   "source": [
    "# load data\n",
    "filename = 'C:/Users/Asus/Desktop/PhD/rotations/AnnJeff/data/riskdata/animalspaper.mat'\n",
    "data = scipy.io.loadmat(filename)\n",
    "data = data['riskydata']\n",
    "df = pd.DataFrame(data)\n",
    "df.columns = ['animal', 'sessionid', 'trialnumber', 'trial_block', 'lotterymag', 'lotteryprob', \n",
    "           'surebetmag', 'rewardreceived', 'lotterychoice', 'lotteryoutcome']"
   ]
  },
  {
   "cell_type": "code",
   "execution_count": 61,
   "id": "50329b0a",
   "metadata": {},
   "outputs": [],
   "source": [
    "# getting relevant variables from data\n",
    "animals = df.animal.unique()\n",
    "nanimals = len(animals)"
   ]
  },
  {
   "cell_type": "code",
   "execution_count": 75,
   "id": "78adb74c",
   "metadata": {},
   "outputs": [
    {
     "data": {
      "text/html": [
       "<div>\n",
       "<style scoped>\n",
       "    .dataframe tbody tr th:only-of-type {\n",
       "        vertical-align: middle;\n",
       "    }\n",
       "\n",
       "    .dataframe tbody tr th {\n",
       "        vertical-align: top;\n",
       "    }\n",
       "\n",
       "    .dataframe thead th {\n",
       "        text-align: right;\n",
       "    }\n",
       "</style>\n",
       "<table border=\"1\" class=\"dataframe\">\n",
       "  <thead>\n",
       "    <tr style=\"text-align: right;\">\n",
       "      <th></th>\n",
       "      <th>animal</th>\n",
       "      <th>sessionid</th>\n",
       "      <th>trialnumber</th>\n",
       "      <th>trial_block</th>\n",
       "      <th>lotterymag</th>\n",
       "      <th>lotteryprob</th>\n",
       "      <th>surebetmag</th>\n",
       "      <th>rewardreceived</th>\n",
       "      <th>lotterychoice</th>\n",
       "      <th>lotteryoutcome</th>\n",
       "    </tr>\n",
       "  </thead>\n",
       "  <tbody>\n",
       "    <tr>\n",
       "      <th>0</th>\n",
       "      <td>2152.0</td>\n",
       "      <td>158487.0</td>\n",
       "      <td>2.0</td>\n",
       "      <td>2.0</td>\n",
       "      <td>0.0</td>\n",
       "      <td>0.55</td>\n",
       "      <td>3.0</td>\n",
       "      <td>24.0</td>\n",
       "      <td>0.0</td>\n",
       "      <td>0.0</td>\n",
       "    </tr>\n",
       "    <tr>\n",
       "      <th>1</th>\n",
       "      <td>2152.0</td>\n",
       "      <td>158487.0</td>\n",
       "      <td>4.0</td>\n",
       "      <td>4.0</td>\n",
       "      <td>8.0</td>\n",
       "      <td>0.55</td>\n",
       "      <td>3.0</td>\n",
       "      <td>24.0</td>\n",
       "      <td>0.0</td>\n",
       "      <td>1.0</td>\n",
       "    </tr>\n",
       "    <tr>\n",
       "      <th>2</th>\n",
       "      <td>2152.0</td>\n",
       "      <td>158487.0</td>\n",
       "      <td>6.0</td>\n",
       "      <td>6.0</td>\n",
       "      <td>0.0</td>\n",
       "      <td>0.55</td>\n",
       "      <td>3.0</td>\n",
       "      <td>24.0</td>\n",
       "      <td>0.0</td>\n",
       "      <td>1.0</td>\n",
       "    </tr>\n",
       "    <tr>\n",
       "      <th>3</th>\n",
       "      <td>2152.0</td>\n",
       "      <td>158487.0</td>\n",
       "      <td>7.0</td>\n",
       "      <td>7.0</td>\n",
       "      <td>4.0</td>\n",
       "      <td>0.55</td>\n",
       "      <td>3.0</td>\n",
       "      <td>24.0</td>\n",
       "      <td>0.0</td>\n",
       "      <td>1.0</td>\n",
       "    </tr>\n",
       "    <tr>\n",
       "      <th>4</th>\n",
       "      <td>2152.0</td>\n",
       "      <td>158487.0</td>\n",
       "      <td>9.0</td>\n",
       "      <td>9.0</td>\n",
       "      <td>4.0</td>\n",
       "      <td>0.55</td>\n",
       "      <td>3.0</td>\n",
       "      <td>24.0</td>\n",
       "      <td>0.0</td>\n",
       "      <td>0.0</td>\n",
       "    </tr>\n",
       "    <tr>\n",
       "      <th>...</th>\n",
       "      <td>...</td>\n",
       "      <td>...</td>\n",
       "      <td>...</td>\n",
       "      <td>...</td>\n",
       "      <td>...</td>\n",
       "      <td>...</td>\n",
       "      <td>...</td>\n",
       "      <td>...</td>\n",
       "      <td>...</td>\n",
       "      <td>...</td>\n",
       "    </tr>\n",
       "    <tr>\n",
       "      <th>8427</th>\n",
       "      <td>2166.0</td>\n",
       "      <td>182807.0</td>\n",
       "      <td>91.0</td>\n",
       "      <td>33.0</td>\n",
       "      <td>4.0</td>\n",
       "      <td>0.60</td>\n",
       "      <td>3.0</td>\n",
       "      <td>48.0</td>\n",
       "      <td>0.0</td>\n",
       "      <td>0.0</td>\n",
       "    </tr>\n",
       "    <tr>\n",
       "      <th>8428</th>\n",
       "      <td>2166.0</td>\n",
       "      <td>182807.0</td>\n",
       "      <td>92.0</td>\n",
       "      <td>34.0</td>\n",
       "      <td>4.0</td>\n",
       "      <td>0.60</td>\n",
       "      <td>3.0</td>\n",
       "      <td>48.0</td>\n",
       "      <td>0.0</td>\n",
       "      <td>0.0</td>\n",
       "    </tr>\n",
       "    <tr>\n",
       "      <th>8429</th>\n",
       "      <td>2166.0</td>\n",
       "      <td>182807.0</td>\n",
       "      <td>94.0</td>\n",
       "      <td>36.0</td>\n",
       "      <td>0.0</td>\n",
       "      <td>0.60</td>\n",
       "      <td>3.0</td>\n",
       "      <td>48.0</td>\n",
       "      <td>0.0</td>\n",
       "      <td>1.0</td>\n",
       "    </tr>\n",
       "    <tr>\n",
       "      <th>8430</th>\n",
       "      <td>2166.0</td>\n",
       "      <td>182807.0</td>\n",
       "      <td>95.0</td>\n",
       "      <td>37.0</td>\n",
       "      <td>16.0</td>\n",
       "      <td>0.60</td>\n",
       "      <td>3.0</td>\n",
       "      <td>256.0</td>\n",
       "      <td>1.0</td>\n",
       "      <td>1.0</td>\n",
       "    </tr>\n",
       "    <tr>\n",
       "      <th>8431</th>\n",
       "      <td>2166.0</td>\n",
       "      <td>182807.0</td>\n",
       "      <td>96.0</td>\n",
       "      <td>38.0</td>\n",
       "      <td>8.0</td>\n",
       "      <td>0.60</td>\n",
       "      <td>3.0</td>\n",
       "      <td>48.0</td>\n",
       "      <td>0.0</td>\n",
       "      <td>0.0</td>\n",
       "    </tr>\n",
       "  </tbody>\n",
       "</table>\n",
       "<p>8432 rows × 10 columns</p>\n",
       "</div>"
      ],
      "text/plain": [
       "      animal  sessionid  trialnumber  trial_block  lotterymag  lotteryprob  \\\n",
       "0     2152.0   158487.0          2.0          2.0         0.0         0.55   \n",
       "1     2152.0   158487.0          4.0          4.0         8.0         0.55   \n",
       "2     2152.0   158487.0          6.0          6.0         0.0         0.55   \n",
       "3     2152.0   158487.0          7.0          7.0         4.0         0.55   \n",
       "4     2152.0   158487.0          9.0          9.0         4.0         0.55   \n",
       "...      ...        ...          ...          ...         ...          ...   \n",
       "8427  2166.0   182807.0         91.0         33.0         4.0         0.60   \n",
       "8428  2166.0   182807.0         92.0         34.0         4.0         0.60   \n",
       "8429  2166.0   182807.0         94.0         36.0         0.0         0.60   \n",
       "8430  2166.0   182807.0         95.0         37.0        16.0         0.60   \n",
       "8431  2166.0   182807.0         96.0         38.0         8.0         0.60   \n",
       "\n",
       "      surebetmag  rewardreceived  lotterychoice  lotteryoutcome  \n",
       "0            3.0            24.0            0.0             0.0  \n",
       "1            3.0            24.0            0.0             1.0  \n",
       "2            3.0            24.0            0.0             1.0  \n",
       "3            3.0            24.0            0.0             1.0  \n",
       "4            3.0            24.0            0.0             0.0  \n",
       "...          ...             ...            ...             ...  \n",
       "8427         3.0            48.0            0.0             0.0  \n",
       "8428         3.0            48.0            0.0             0.0  \n",
       "8429         3.0            48.0            0.0             1.0  \n",
       "8430         3.0           256.0            1.0             1.0  \n",
       "8431         3.0            48.0            0.0             0.0  \n",
       "\n",
       "[8432 rows x 10 columns]"
      ]
     },
     "execution_count": 75,
     "metadata": {},
     "output_type": "execute_result"
    }
   ],
   "source": [
    "df"
   ]
  },
  {
   "cell_type": "code",
   "execution_count": 120,
   "id": "9fa12ae1",
   "metadata": {},
   "outputs": [],
   "source": [
    "# creating input structure compatible with the ssm package\n",
    "inputdim = 2\n",
    "inputs = []\n",
    "Y = []\n",
    "\n",
    "for aa in range(nanimals):\n",
    "    animaldata = df[df.animal == animals[aa]]\n",
    "    sessions = animaldata.sessionid.unique()\n",
    "    nsessions = len(sessions)\n",
    "    \n",
    "    inputsaux = []\n",
    "    yaux = []\n",
    "    for ss in range(nsessions):\n",
    "        sessiondata = animaldata[animaldata.sessionid == sessions[ss]]\n",
    "        ntrials = len(sessiondata)\n",
    "        inputsaux.append(np.ones([ntrials, inputdim]))\n",
    "        yaux.append(np.zeros([ntrials,1], dtype = int))\n",
    "        \n",
    "        sbmag = sessiondata.surebetmag[sessiondata.lotterychoice == 0].unique()\n",
    "        sbrwd = sessiondata.rewardreceived[sessiondata.lotterychoice == 0].unique()\n",
    "        rwdmult = sbrwd/sbmag\n",
    "        lotteryprob = sessiondata.lotteryprob.unique()\n",
    "        \n",
    "        deltaEV = rwdmult * (sessiondata.lotterymag * lotteryprob) - sbrwd\n",
    "        normdeltaEV = deltaEV/max(deltaEV)\n",
    "        inputsaux[ss][:,0] = normdeltaEV\n",
    "        yaux[ss][:,0] = sessiondata.lotterychoice\n",
    "    \n",
    "    inputs.append(inputsaux)\n",
    "    Y.append(yaux)"
   ]
  },
  {
   "cell_type": "code",
   "execution_count": 139,
   "id": "3dc8f819",
   "metadata": {},
   "outputs": [
    {
     "data": {
      "application/vnd.jupyter.widget-view+json": {
       "model_id": "e1cf67965e1d43c4bb860a34975d0667",
       "version_major": 2,
       "version_minor": 0
      },
      "text/plain": [
       "  0%|          | 0/200 [00:00<?, ?it/s]"
      ]
     },
     "metadata": {},
     "output_type": "display_data"
    },
    {
     "data": {
      "application/vnd.jupyter.widget-view+json": {
       "model_id": "e8bba10a297843f99c9d1fbf64361562",
       "version_major": 2,
       "version_minor": 0
      },
      "text/plain": [
       "  0%|          | 0/200 [00:00<?, ?it/s]"
      ]
     },
     "metadata": {},
     "output_type": "display_data"
    },
    {
     "data": {
      "application/vnd.jupyter.widget-view+json": {
       "model_id": "6211c75d51c54793bf6573cf34327641",
       "version_major": 2,
       "version_minor": 0
      },
      "text/plain": [
       "  0%|          | 0/200 [00:00<?, ?it/s]"
      ]
     },
     "metadata": {},
     "output_type": "display_data"
    },
    {
     "data": {
      "application/vnd.jupyter.widget-view+json": {
       "model_id": "451329cf7341419b9f6c631f372cad0d",
       "version_major": 2,
       "version_minor": 0
      },
      "text/plain": [
       "  0%|          | 0/200 [00:00<?, ?it/s]"
      ]
     },
     "metadata": {},
     "output_type": "display_data"
    },
    {
     "data": {
      "application/vnd.jupyter.widget-view+json": {
       "model_id": "63772963116a48c58de383b1003e9a2e",
       "version_major": 2,
       "version_minor": 0
      },
      "text/plain": [
       "  0%|          | 0/200 [00:00<?, ?it/s]"
      ]
     },
     "metadata": {},
     "output_type": "display_data"
    },
    {
     "data": {
      "application/vnd.jupyter.widget-view+json": {
       "model_id": "b44f2af54c2f4b38906adef70f31b7fc",
       "version_major": 2,
       "version_minor": 0
      },
      "text/plain": [
       "  0%|          | 0/200 [00:00<?, ?it/s]"
      ]
     },
     "metadata": {},
     "output_type": "display_data"
    },
    {
     "data": {
      "application/vnd.jupyter.widget-view+json": {
       "model_id": "5f9edcd59b69493c8a19235f1e139112",
       "version_major": 2,
       "version_minor": 0
      },
      "text/plain": [
       "  0%|          | 0/200 [00:00<?, ?it/s]"
      ]
     },
     "metadata": {},
     "output_type": "display_data"
    },
    {
     "data": {
      "application/vnd.jupyter.widget-view+json": {
       "model_id": "a00aada621c940858c2d5da950a214dc",
       "version_major": 2,
       "version_minor": 0
      },
      "text/plain": [
       "  0%|          | 0/200 [00:00<?, ?it/s]"
      ]
     },
     "metadata": {},
     "output_type": "display_data"
    }
   ],
   "source": [
    "# setting glm-hmm parameters\n",
    "animalidx = 0\n",
    "nstates = 3\n",
    "obsdim = 1\n",
    "inputdim = 2\n",
    "ncatergories = 2\n",
    "niterations = 200\n",
    "\n",
    "pstate = []\n",
    "for aa in range(nanimals):\n",
    "    glmhmm = ssm.HMM(nstates, obsdim, inputdim,  observations = 'input_driven_obs',\n",
    "                observation_kwargs = dict(C = ncatergories), transitions = \"standard\")\n",
    "    glmhmm2fit = glmhmm.fit(Y[aa], inputs = inputs[aa], method = 'em', num_iters = niterations, tolerance = 10**-5)\n",
    "                     \n",
    "    posterior_pstate = [glmhmm.expected_states(data = data, input = inputs)[0]\n",
    "                        for data, inputs\n",
    "                        in zip(Y[aa], inputs[aa])]\n",
    "    pstate.append(posterior_pstate)"
   ]
  },
  {
   "cell_type": "code",
   "execution_count": null,
   "id": "c94a2188",
   "metadata": {},
   "outputs": [],
   "source": []
  },
  {
   "cell_type": "code",
   "execution_count": null,
   "id": "7e73f354",
   "metadata": {},
   "outputs": [],
   "source": [
    "# add state info to dataframe"
   ]
  }
 ],
 "metadata": {
  "kernelspec": {
   "display_name": "Python 3 (ipykernel)",
   "language": "python",
   "name": "python3"
  },
  "language_info": {
   "codemirror_mode": {
    "name": "ipython",
    "version": 3
   },
   "file_extension": ".py",
   "mimetype": "text/x-python",
   "name": "python",
   "nbconvert_exporter": "python",
   "pygments_lexer": "ipython3",
   "version": "3.7.4"
  }
 },
 "nbformat": 4,
 "nbformat_minor": 5
}
