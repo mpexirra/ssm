{
 "cells": [
  {
   "cell_type": "code",
   "execution_count": 21,
   "id": "e08a7d86",
   "metadata": {},
   "outputs": [],
   "source": [
    "# importing packages\n",
    "import numpy as np\n",
    "import matplotlib\n",
    "import matplotlib.pyplot as plt\n",
    "from matplotlib.lines import Line2D\n",
    "import matplotlib.lines as mlines\n",
    "from matplotlib.gridspec import GridSpec\n",
    "\n",
    "#%matplotlib qt\n",
    "\n",
    "from scipy.optimize import curve_fit\n",
    "from scipy.special import expit\n",
    "\n",
    "import ssm\n",
    "from ssm import transitions \n",
    "\n",
    "import scipy.io\n",
    "import os\n",
    "import seaborn as sns\n",
    "import pandas as pd"
   ]
  },
  {
   "cell_type": "code",
   "execution_count": 22,
   "id": "201f74a7",
   "metadata": {},
   "outputs": [],
   "source": [
    "# load data\n",
    "filename = 'C:/Users/Asus/Desktop/PhD/rotations/AnnJeff/data/riskdata/muscimoldata.mat'\n",
    "#filename = '/Users/mpexirra/Documents/data/controldata'\n",
    "data = scipy.io.loadmat(filename)\n",
    "data = data['muscimoldata']\n",
    "df = pd.DataFrame(data)\n",
    "df.columns = ['animal', 'sessionid', 'trialnumber', 'trial_block', 'lotterymag', 'lotteryprob', \n",
    "           'surebetmag', 'rewardreceived', 'lotterychoice', 'lotteryoutcome', 'musdose', 'region']"
   ]
  },
  {
   "cell_type": "code",
   "execution_count": 23,
   "id": "976a27df",
   "metadata": {},
   "outputs": [],
   "source": [
    "# defining plot colors\n",
    "stimcolors = sns.color_palette(\"rocket_r\")\n",
    "colors = ['gold', 'plum', 'lightskyblue']"
   ]
  },
  {
   "cell_type": "code",
   "execution_count": 24,
   "id": "f874b2d0",
   "metadata": {},
   "outputs": [],
   "source": [
    "# getting relevant variables from data\n",
    "animals = df.animal.unique()\n",
    "nanimals = len(animals)\n",
    "\n",
    "# creating extra variables in the dataframe\n",
    "df['choiceout'] = np.zeros(len(df))\n",
    "df.loc[(df.lotterychoice == 1) & (df.lotteryoutcome == 1),['choiceout']] = 1\n",
    "df.loc[(df.lotterychoice == 1) & (df.lotteryoutcome == 0),['choiceout']] = -1\n",
    "\n",
    "df.loc[df.region == 1, 'region'] = 'ctrl'\n",
    "df.loc[df.region == 2, 'region'] = 'fof'\n",
    "df.loc[df.region == 3, 'region'] = 'ppc'\n",
    "\n",
    "dftraining = df[df.region == 'ctrl']"
   ]
  },
  {
   "cell_type": "code",
   "execution_count": 25,
   "id": "2c1ed27e",
   "metadata": {},
   "outputs": [],
   "source": [
    "# normalization function\n",
    "def normV(X, method):   \n",
    "    if method == 'max':\n",
    "        return X/max(X)\n",
    "    if method == 'zscore':\n",
    "        return (X - np.mean(X))/np.std(X)"
   ]
  },
  {
   "cell_type": "code",
   "execution_count": 26,
   "id": "da1210b8",
   "metadata": {},
   "outputs": [],
   "source": [
    "# creating input structure compatible with the ssm package\n",
    "inputdim = 2\n",
    "inputs = []\n",
    "Y = []\n",
    "\n",
    "for aa in range(nanimals):\n",
    "    animaldata = dftraining[dftraining.animal == animals[aa]]\n",
    "    sessions = animaldata.sessionid.unique()\n",
    "    nsessions = len(sessions)\n",
    "    \n",
    "    inputsaux = []\n",
    "    yaux = []\n",
    "    for ss in range(nsessions):\n",
    "        sessiondata = animaldata[animaldata.sessionid == sessions[ss]]\n",
    "        ntrials = len(sessiondata)\n",
    "        inputsaux.append(np.ones([ntrials, inputdim]))\n",
    "        yaux.append(np.zeros([ntrials,1], dtype = int))\n",
    "        \n",
    "        sbmag = sessiondata.surebetmag[sessiondata.lotterychoice == 0].unique()\n",
    "        sbrwd = sessiondata.rewardreceived[sessiondata.lotterychoice == 0].unique()\n",
    "        rwdmult = sbrwd/sbmag\n",
    "        lotteryprob = sessiondata.lotteryprob.unique()\n",
    "        \n",
    "        # getting and saving deltaEV information\n",
    "        deltaEV = rwdmult * (sessiondata.lotterymag * lotteryprob) - sbrwd\n",
    "        normdeltaEV = normV(deltaEV, 'max')\n",
    "        inputsaux[ss][:,0] = normdeltaEV\n",
    "        yaux[ss][:,0] = sessiondata.lotterychoice\n",
    "        \n",
    "        ## getting and saving previous choice and previous reward information\n",
    "        #inputsaux[ss][:,2] = np.hstack((0, sessiondata.lotterychoice[1:]))\n",
    "        #inputsaux[ss][:,2] = np.hstack((0, sessiondata.choiceout[1:]))\n",
    "    \n",
    "    inputs.append(inputsaux)\n",
    "    Y.append(yaux)"
   ]
  },
  {
   "cell_type": "code",
   "execution_count": 27,
   "id": "a4320a6b",
   "metadata": {},
   "outputs": [
    {
     "name": "stderr",
     "output_type": "stream",
     "text": [
      "C:\\Users\\Asus\\Anaconda3\\lib\\site-packages\\ipykernel_launcher.py:7: SettingWithCopyWarning: \n",
      "A value is trying to be set on a copy of a slice from a DataFrame.\n",
      "Try using .loc[row_indexer,col_indexer] = value instead\n",
      "\n",
      "See the caveats in the documentation: https://pandas.pydata.org/pandas-docs/stable/user_guide/indexing.html#returning-a-view-versus-a-copy\n",
      "  import sys\n",
      "C:\\Users\\Asus\\Anaconda3\\lib\\site-packages\\ipykernel_launcher.py:8: SettingWithCopyWarning: \n",
      "A value is trying to be set on a copy of a slice from a DataFrame.\n",
      "Try using .loc[row_indexer,col_indexer] = value instead\n",
      "\n",
      "See the caveats in the documentation: https://pandas.pydata.org/pandas-docs/stable/user_guide/indexing.html#returning-a-view-versus-a-copy\n",
      "  \n",
      "C:\\Users\\Asus\\Anaconda3\\lib\\site-packages\\ipykernel_launcher.py:9: SettingWithCopyWarning: \n",
      "A value is trying to be set on a copy of a slice from a DataFrame.\n",
      "Try using .loc[row_indexer,col_indexer] = value instead\n",
      "\n",
      "See the caveats in the documentation: https://pandas.pydata.org/pandas-docs/stable/user_guide/indexing.html#returning-a-view-versus-a-copy\n",
      "  if __name__ == '__main__':\n",
      "C:\\Users\\Asus\\Anaconda3\\lib\\site-packages\\ipykernel_launcher.py:10: SettingWithCopyWarning: \n",
      "A value is trying to be set on a copy of a slice from a DataFrame.\n",
      "Try using .loc[row_indexer,col_indexer] = value instead\n",
      "\n",
      "See the caveats in the documentation: https://pandas.pydata.org/pandas-docs/stable/user_guide/indexing.html#returning-a-view-versus-a-copy\n",
      "  # Remove the CWD from sys.path while we load stuff.\n"
     ]
    },
    {
     "data": {
      "application/vnd.jupyter.widget-view+json": {
       "model_id": "acc6b4180db444799303a4521e316e1b",
       "version_major": 2,
       "version_minor": 0
      },
      "text/plain": [
       "  0%|          | 0/200 [00:00<?, ?it/s]"
      ]
     },
     "metadata": {},
     "output_type": "display_data"
    },
    {
     "name": "stderr",
     "output_type": "stream",
     "text": [
      "C:\\Users\\Asus\\Anaconda3\\lib\\site-packages\\pandas\\core\\indexing.py:1835: SettingWithCopyWarning: \n",
      "A value is trying to be set on a copy of a slice from a DataFrame.\n",
      "Try using .loc[row_indexer,col_indexer] = value instead\n",
      "\n",
      "See the caveats in the documentation: https://pandas.pydata.org/pandas-docs/stable/user_guide/indexing.html#returning-a-view-versus-a-copy\n",
      "  self._setitem_single_column(loc, value[:, i].tolist(), pi)\n"
     ]
    },
    {
     "data": {
      "application/vnd.jupyter.widget-view+json": {
       "model_id": "b23e6f3dd2d6453dad5bb4afa17cb953",
       "version_major": 2,
       "version_minor": 0
      },
      "text/plain": [
       "  0%|          | 0/200 [00:00<?, ?it/s]"
      ]
     },
     "metadata": {},
     "output_type": "display_data"
    },
    {
     "data": {
      "application/vnd.jupyter.widget-view+json": {
       "model_id": "41c2447dc5c845dc93a71aee7e7b4685",
       "version_major": 2,
       "version_minor": 0
      },
      "text/plain": [
       "  0%|          | 0/200 [00:00<?, ?it/s]"
      ]
     },
     "metadata": {},
     "output_type": "display_data"
    },
    {
     "data": {
      "application/vnd.jupyter.widget-view+json": {
       "model_id": "5d5dae301bd94b8bb4b9f7c016f37f10",
       "version_major": 2,
       "version_minor": 0
      },
      "text/plain": [
       "  0%|          | 0/200 [00:00<?, ?it/s]"
      ]
     },
     "metadata": {},
     "output_type": "display_data"
    },
    {
     "data": {
      "application/vnd.jupyter.widget-view+json": {
       "model_id": "15a6b27c57d24c0daa18003e99035454",
       "version_major": 2,
       "version_minor": 0
      },
      "text/plain": [
       "  0%|          | 0/200 [00:00<?, ?it/s]"
      ]
     },
     "metadata": {},
     "output_type": "display_data"
    },
    {
     "data": {
      "application/vnd.jupyter.widget-view+json": {
       "model_id": "9a9b1f264b3b4a94bb7f6488ce15779a",
       "version_major": 2,
       "version_minor": 0
      },
      "text/plain": [
       "  0%|          | 0/200 [00:00<?, ?it/s]"
      ]
     },
     "metadata": {},
     "output_type": "display_data"
    },
    {
     "data": {
      "application/vnd.jupyter.widget-view+json": {
       "model_id": "2c93bb4c719e467b89525c858f2812a8",
       "version_major": 2,
       "version_minor": 0
      },
      "text/plain": [
       "  0%|          | 0/200 [00:00<?, ?it/s]"
      ]
     },
     "metadata": {},
     "output_type": "display_data"
    },
    {
     "data": {
      "application/vnd.jupyter.widget-view+json": {
       "model_id": "71934ec7bebd4872b5259d296627ffe4",
       "version_major": 2,
       "version_minor": 0
      },
      "text/plain": [
       "  0%|          | 0/200 [00:00<?, ?it/s]"
      ]
     },
     "metadata": {},
     "output_type": "display_data"
    },
    {
     "name": "stderr",
     "output_type": "stream",
     "text": [
      "C:\\Users\\Asus\\Anaconda3\\lib\\site-packages\\pandas\\core\\generic.py:5516: SettingWithCopyWarning: \n",
      "A value is trying to be set on a copy of a slice from a DataFrame.\n",
      "Try using .loc[row_indexer,col_indexer] = value instead\n",
      "\n",
      "See the caveats in the documentation: https://pandas.pydata.org/pandas-docs/stable/user_guide/indexing.html#returning-a-view-versus-a-copy\n",
      "  self[name] = value\n"
     ]
    }
   ],
   "source": [
    "# setting glm-hmm parameters\n",
    "nstates = 3\n",
    "obsdim = 1\n",
    "ncatergories = 2\n",
    "niterations = 200\n",
    "# creating new df variables for estimated states from glmhmm\n",
    "dftraining['pstate1'] = np.zeros(len(dftraining))\n",
    "dftraining['pstate2'] = np.zeros(len(dftraining))\n",
    "dftraining['pstate3'] = np.zeros(len(dftraining))\n",
    "dftraining['state'] = np.zeros(len(dftraining))\n",
    "\n",
    "# creating variables to keep from HMM\n",
    "w = []\n",
    "transmat = []\n",
    "\n",
    "for aa in range(nanimals):\n",
    "    w.append(np.zeros([nstates, inputdim]))\n",
    "    transmat.append(np.zeros([nstates, nstates]))\n",
    "    \n",
    "    glmhmm = ssm.HMM(nstates, obsdim, inputdim,  observations = 'input_driven_obs',\n",
    "                observation_kwargs = dict(C = ncatergories), transitions = \"standard\")\n",
    "    glmhmm2fit = glmhmm.fit(Y[aa], inputs = inputs[aa], method = 'em', num_iters = niterations, tolerance = 10**-5)\n",
    "\n",
    "    # saving the glm weights and transition matrix values\n",
    "    waux = - glmhmm.observations.params.reshape(nstates, inputdim)\n",
    "    w[aa] = waux\n",
    "\n",
    "    transmat[aa] = glmhmm.transitions.transition_matrix\n",
    "    \n",
    "    # getting expected states\n",
    "    posterior_pstate = [glmhmm.expected_states(data = data, input = inputs)[0]\n",
    "                        for data, inputs\n",
    "                        in zip(Y[aa], inputs[aa])]\n",
    "   \n",
    "    # saving expected states  for each trialin the data frame\n",
    "    ppstate_aux = np.array([item for sublist in posterior_pstate for item in sublist])\n",
    "    dftraining.loc[dftraining.animal == animals[aa],['pstate1', 'pstate2','pstate3']] = ppstate_aux\n",
    "\n",
    "dftraining.state = dftraining[['pstate1', 'pstate2', 'pstate3']].idxmax(axis = 1)    "
   ]
  },
  {
   "cell_type": "code",
   "execution_count": 38,
   "id": "b825c2a1",
   "metadata": {},
   "outputs": [
    {
     "data": {
      "text/plain": [
       "array([2.61753288e-01, 2.37014000e-09, 7.38246709e-01])"
      ]
     },
     "execution_count": 38,
     "metadata": {},
     "output_type": "execute_result"
    }
   ],
   "source": [
    "# getting manipulation sessions expected states based on the control data model"
   ]
  }
 ],
 "metadata": {
  "kernelspec": {
   "display_name": "Python 3 (ipykernel)",
   "language": "python",
   "name": "python3"
  },
  "language_info": {
   "codemirror_mode": {
    "name": "ipython",
    "version": 3
   },
   "file_extension": ".py",
   "mimetype": "text/x-python",
   "name": "python",
   "nbconvert_exporter": "python",
   "pygments_lexer": "ipython3",
   "version": "3.7.4"
  }
 },
 "nbformat": 4,
 "nbformat_minor": 5
}
